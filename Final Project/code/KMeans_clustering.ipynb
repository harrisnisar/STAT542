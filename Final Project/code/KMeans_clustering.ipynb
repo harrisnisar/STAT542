{
  "nbformat": 4,
  "nbformat_minor": 0,
  "metadata": {
    "colab": {
      "name": "KMeans_clustering.ipynb",
      "provenance": []
    },
    "kernelspec": {
      "name": "python3",
      "display_name": "Python 3"
    },
    "language_info": {
      "name": "python"
    }
  },
  "cells": [
    {
      "cell_type": "code",
      "execution_count": 3,
      "metadata": {
        "id": "KJe72gBNF2az"
      },
      "outputs": [],
      "source": [
        "%load_ext rpy2.ipython"
      ]
    },
    {
      "cell_type": "code",
      "source": [
        "%%R\n",
        "\n",
        "train <- read.csv('/content/fashion-mnist_train.csv')"
      ],
      "metadata": {
        "id": "rJ6HCS0wGHcw"
      },
      "execution_count": 4,
      "outputs": []
    },
    {
      "cell_type": "code",
      "source": [
        "%%R\n",
        "dim(train)\n",
        "table(train[, 1])"
      ],
      "metadata": {
        "colab": {
          "base_uri": "https://localhost:8080/"
        },
        "id": "lRzCAPB_oNRf",
        "outputId": "2bfdf8df-9aa0-4136-bd16-036c6296d347"
      },
      "execution_count": null,
      "outputs": [
        {
          "output_type": "stream",
          "name": "stdout",
          "text": [
            "\n",
            "   0    1    2    3    4    5    6    7    8    9 \n",
            "6000 6000 6000 6000 6000 6000 6000 6000 6000 6000 \n"
          ]
        }
      ]
    },
    {
      "cell_type": "code",
      "source": [
        "%%R\n",
        "#center and scaling the data for mean 0, std 1\n",
        "\n",
        "train_sc <- scale(train[,-1])"
      ],
      "metadata": {
        "id": "Dk_eA4cyofnf"
      },
      "execution_count": 5,
      "outputs": []
    },
    {
      "cell_type": "code",
      "source": [
        "%%R\n",
        "wss <- function(k) {\n",
        "  kmeans(train_sc, k, nstart = 10)$tot.withinss\n",
        "}\n",
        "\n",
        "# Compute and plot wss for k = 2 to k = 15\n",
        "k.values <- c(2:15)\n",
        "\n",
        "# extract wss for 2-15 clusters\n",
        "wss_values = c()\n",
        "for(i in k.values){\n",
        "  print(i)\n",
        "  wss_values <- c(wss_values, wss(i))\n",
        "}"
      ],
      "metadata": {
        "colab": {
          "base_uri": "https://localhost:8080/"
        },
        "id": "xQY-P3ERolJt",
        "outputId": "cab253dd-1973-46c4-e1eb-cba50bd908b2"
      },
      "execution_count": null,
      "outputs": [
        {
          "output_type": "stream",
          "name": "stdout",
          "text": [
            "[1] 2\n",
            "[1] 3\n",
            "[1] 4\n",
            "[1] 5\n",
            "[1] 6\n",
            "[1] 7\n",
            "[1] 8\n",
            "[1] 9\n",
            "[1] 10\n",
            "[1] 11\n",
            "[1] 12\n",
            "[1] 13\n",
            "[1] 14\n",
            "[1] 15\n"
          ]
        }
      ]
    },
    {
      "cell_type": "code",
      "source": [
        "%%R\n",
        "plot(k.values, wss_values,\n",
        "       type=\"b\", pch = 19, frame = FALSE, \n",
        "       xlab=\"Number of clusters K\",\n",
        "       ylab=\"Total within-clusters sum of squares\")"
      ],
      "metadata": {
        "colab": {
          "base_uri": "https://localhost:8080/",
          "height": 497
        },
        "id": "Ixk1afFKwHlj",
        "outputId": "931bd360-b2d4-42b0-9125-9c4f6f683c7e"
      },
      "execution_count": null,
      "outputs": [
        {
          "output_type": "display_data",
          "data": {
            "image/png": "[encoded data removed]"
          },
          "metadata": {}
        }
      ]
    },
    {
      "cell_type": "code",
      "source": [
        "%%R\n",
        "wss_values"
      ],
      "metadata": {
        "colab": {
          "base_uri": "https://localhost:8080/"
        },
        "id": "9jySbi8Zyu0k",
        "outputId": "147698fb-b2ec-48cb-bd9f-c54a50e08703"
      },
      "execution_count": null,
      "outputs": [
        {
          "output_type": "stream",
          "name": "stdout",
          "text": [
            " [1] 39546774 35510277 32615385 31124213 29739500 28367588 27579574 26797605\n",
            " [9] 26153532 25555886 25013039 24681623 24276480 23920974\n"
          ]
        }
      ]
    },
    {
      "cell_type": "code",
      "source": [
        "%%R\n",
        "c(16:18)"
      ],
      "metadata": {
        "colab": {
          "base_uri": "https://localhost:8080/"
        },
        "id": "ymdu_IUN0T-w",
        "outputId": "0be90ab4-43af-4d13-abc8-1d54e14c07c1"
      },
      "execution_count": null,
      "outputs": [
        {
          "output_type": "stream",
          "name": "stdout",
          "text": [
            "[1] 16 17 18\n"
          ]
        }
      ]
    },
    {
      "cell_type": "code",
      "source": [
        "%%R\n",
        "# adding more clusters \n",
        "\n",
        "k.new <- c(16:18)\n",
        "\n",
        "# extract wss for 16-18 clusters\n",
        "for(i in k.new){\n",
        "  print(i)\n",
        "  wss_values <- c(wss_values, wss(i))\n",
        "}"
      ],
      "metadata": {
        "colab": {
          "base_uri": "https://localhost:8080/"
        },
        "id": "bumv0zYm0NsR",
        "outputId": "bfb034a9-f1b2-4d2a-e11a-14c5a38be03c"
      },
      "execution_count": null,
      "outputs": [
        {
          "output_type": "stream",
          "name": "stdout",
          "text": [
            "[1] 16\n",
            "[1] 17\n",
            "[1] 18\n"
          ]
        }
      ]
    },
    {
      "cell_type": "code",
      "source": [
        "%%R\n",
        "wss_values"
      ],
      "metadata": {
        "colab": {
          "base_uri": "https://localhost:8080/"
        },
        "id": "YocFPTsM0Nx8",
        "outputId": "5ff3bd51-be4c-4a01-90c5-c10ee9ebebff"
      },
      "execution_count": null,
      "outputs": [
        {
          "output_type": "stream",
          "name": "stdout",
          "text": [
            " [1] 39546774 35510277 32615385 31124213 29739500 28367588 27579574 26797605\n",
            " [9] 26153532 25555886 25013039 24681623 24276480 23920974 23604737 23355337\n",
            "[17] 23056681\n"
          ]
        }
      ]
    },
    {
      "cell_type": "code",
      "source": [
        "%%R\n",
        "k.times <- c(2:18)"
      ],
      "metadata": {
        "id": "rSWj90Xm4GuI"
      },
      "execution_count": null,
      "outputs": []
    },
    {
      "cell_type": "code",
      "source": [
        "%%R\n",
        "plot(k.times, wss_values,\n",
        "       type=\"b\", pch = 19, frame = FALSE, \n",
        "       xlab=\"Number of clusters K\",\n",
        "       ylab=\"Total within-clusters sum of squares\")"
      ],
      "metadata": {
        "colab": {
          "base_uri": "https://localhost:8080/",
          "height": 497
        },
        "id": "Vm7Cy6ND3-qb",
        "outputId": "32839900-578d-4dde-9c10-19cea573942d"
      },
      "execution_count": null,
      "outputs": [
        {
          "output_type": "display_data",
          "data": {
            "image/png": "[encoded data removed]"
          },
          "metadata": {}
        }
      ]
    },
    {
      "cell_type": "code",
      "source": [
        "%%R\n",
        "set.seed(4)\n",
        "km <- kmeans(train_sc, centers = 10, nstart = 25)"
      ],
      "metadata": {
        "id": "QFIGOKyES1Z_"
      },
      "execution_count": 6,
      "outputs": []
    },
    {
      "cell_type": "code",
      "source": [
        "%%R\n",
        "km$centers"
      ],
      "metadata": {
        "id": "3W1VQkPNbHA9"
      },
      "execution_count": null,
      "outputs": []
    },
    {
      "cell_type": "code",
      "source": [
        "%%R\n",
        "aggregate(train, by=list(cluster=km$cluster), mean)"
      ],
      "metadata": {
        "id": "pvyG4x3Mb-Ew"
      },
      "execution_count": null,
      "outputs": []
    },
    {
      "cell_type": "code",
      "source": [
        "%%R \n",
        "str(km)"
      ],
      "metadata": {
        "colab": {
          "base_uri": "https://localhost:8080/"
        },
        "id": "u1bSUJaxeGq2",
        "outputId": "bb66198b-75be-4b67-ee10-6e59f25889ed"
      },
      "execution_count": null,
      "outputs": [
        {
          "output_type": "stream",
          "name": "stdout",
          "text": [
            "List of 9\n",
            " $ cluster     : int [1:60000] 9 6 10 4 4 10 4 7 10 1 ...\n",
            " $ centers     : num [1:10, 1:784] 0.00733 -0.00819 -0.0095 0.02753 -0.0095 ...\n",
            "  ..- attr(*, \"dimnames\")=List of 2\n",
            "  .. ..$ : chr [1:10] \"1\" \"2\" \"3\" \"4\" ...\n",
            "  .. ..$ : chr [1:784] \"pixel1\" \"pixel2\" \"pixel3\" \"pixel4\" ...\n",
            " $ totss       : num 4.7e+07\n",
            " $ withinss    : num [1:10] 1864570 2776281 1881795 3077958 2348669 ...\n",
            " $ tot.withinss: num 26153539\n",
            " $ betweenss   : num 20885677\n",
            " $ size        : int [1:10] 2510 8054 6679 7414 9101 4703 7600 2337 2311 9291\n",
            " $ iter        : int 7\n",
            " $ ifault      : int 0\n",
            " - attr(*, \"class\")= chr \"kmeans\"\n"
          ]
        }
      ]
    },
    {
      "cell_type": "code",
      "source": [
        "%%R\n",
        "plot(train_sc, col = km$cluster)\n",
        "points(km$centers, col = 1:10, pch = 8)"
      ],
      "metadata": {
        "colab": {
          "base_uri": "https://localhost:8080/",
          "height": 497
        },
        "id": "o0Y2HrAqeXF-",
        "outputId": "89fe3dce-3df7-47c7-aa92-9f8cd8908a6a"
      },
      "execution_count": null,
      "outputs": [
        {
          "output_type": "display_data",
          "data": {
            "image/png": "[encoded data removed]"
          },
          "metadata": {}
        }
      ]
    },
    {
      "cell_type": "code",
      "source": [
        "%%R\n",
        "#add cluster assigment to original data\n",
        "df <- cbind(train, cluster = km$cluster)"
      ],
      "metadata": {
        "id": "2XhlzvXFbiEc"
      },
      "execution_count": 7,
      "outputs": []
    },
    {
      "cell_type": "code",
      "source": [
        "%%R\n",
        "\n",
        "write.csv(df, \"/content/fashion-mnist_train_with_clusters.csv\", row.names=FALSE)"
      ],
      "metadata": {
        "id": "Iy348_72pkFU"
      },
      "execution_count": 8,
      "outputs": []
    }
  ]
}