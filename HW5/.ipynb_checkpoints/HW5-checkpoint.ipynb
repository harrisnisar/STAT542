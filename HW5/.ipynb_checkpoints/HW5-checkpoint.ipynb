{
 "cells": [
  {
   "cell_type": "code",
   "execution_count": 1,
   "id": "b5009c7f",
   "metadata": {
    "tags": [
     "remove-cell"
    ]
   },
   "outputs": [],
   "source": [
    "# jupyter nbconvert HW5.ipynb --TagRemovePreprocessor.remove_cell_tags='{\"remove-cell\"}' --to pdf \n",
    "import numpy as np\n",
    "import matplotlib.pyplot as plt\n",
    "import pandas as pd\n",
    "import statsmodels.api as sm\n",
    "from scipy.optimize import minimize\n",
    "%matplotlib inline\n",
    "%config InlineBackend.figure_format = 'png'\n",
    "\n",
    "from pylab import rcParams\n",
    "rcParams.update({\"axes.grid\" : True})\n",
    "rcParams['figure.figsize'] = (6,4)\n",
    "rcParams['lines.linewidth'] = 1\n",
    "rcParams['image.cmap'] = 'Greys'\n",
    "rcParams['axes.spines.right'] = False\n",
    "rcParams['axes.spines.top'] = False\n",
    "rcParams['font.weight'] = 400\n",
    "rcParams['font.size'] = 9\n",
    "rcParams['xtick.color'] = '#111111'\n",
    "rcParams['ytick.color'] = '#111111'\n",
    "rcParams['grid.color'] = '#dddddd'\n",
    "rcParams['grid.linestyle'] = '-'\n",
    "rcParams['grid.linewidth'] = 0.5\n",
    "rcParams['axes.titlesize'] = 12\n",
    "rcParams['axes.titleweight'] = 500\n",
    "rcParams['axes.labelsize'] = 10\n",
    "rcParams['axes.labelweight'] = 400\n",
    "rcParams['axes.linewidth'] = 0.5\n",
    "rcParams['axes.edgecolor'] = [.25,.25,.25]"
   ]
  },
  {
   "cell_type": "markdown",
   "id": "2a275c0d",
   "metadata": {},
   "source": [
    "# About HW5\n",
    "\n",
    "We utilize the coordinate descent algorithm introduced in the class to implement the entire Lasso solution. For coordinate descent, you may also want to review HW4. This HW involves two steps: in the first step, we solve the solution for a fixed $\\lambda$ value, while in the second step, we consider a sequence of $\\lambda$ values and solve it using the path-wise coordinate descent. \n",
    "\n",
    "# Question 1 [50 Points] Lasso solution for fixed $\\lambda$ \n",
    "\n",
    "For this question, you cannot use functions from any additional library, except the `MASS` package, which is used to generate multivariate normal data. Following HW4, we use the this version of the objective function: \n",
    "\n",
    "$$\\arg\\min_{\\beta} \\frac{1}{n} \\lVert \\mathbf{y} - \\mathbf{X}\\beta \\rVert^2 + \\lambda \\lVert \\beta \\rVert_1$$\n",
    "\n",
    "The following data is used to fit this model. You can consider using similar functions in Python if needed. We use \n",
    "\n",
    "```{r}\n",
    "  library(MASS)\n",
    "  set.seed(10)\n",
    "  n = 100\n",
    "  p = 200\n",
    "\n",
    "  # generate data\n",
    "  V = matrix(0.3, p, p)\n",
    "  diag(V) = 1\n",
    "  X_org = as.matrix(mvrnorm(n, mu = rep(0, p), Sigma = V))\n",
    "  true_b = c(1:3, -3:-1, rep(0, p-6))\n",
    "  y_org = X_org %*% true_b + rnorm(n)\n",
    "\n",
    "  # pre-scaling and centering X and y\n",
    "  X = scale(X_org)*sqrt(n/(n-1))\n",
    "  y = scale(y_org)*sqrt(n/(n-1))\n",
    "  lambda = 0.3\n",
    "  \n",
    "  write.csv(X,\"/Users/harrisnisar/Documents/Stat 542/HW5/data/X.csv\", row.names = FALSE)\n",
    "  write.csv(y,\"/Users/harrisnisar/Documents/Stat 542/HW5/data/y.csv\", row.names = FALSE)\n",
    "```\n",
    "\n",
    "Since we will eventually be comparing our results to what R's glmnet package gives us, I decided to just use the exact data generated in the notebook by saving it to csv (last two lines above) and then reading it as follows:"
   ]
  },
  {
   "cell_type": "code",
   "execution_count": 30,
   "id": "1625dd09",
   "metadata": {},
   "outputs": [],
   "source": [
    "# TO-DO: implement the data generation in python\n",
    "X_org = np.array(pd.read_csv('./data/X_org.csv'))\n",
    "y_org = np.array(pd.read_csv('./data/y.csv')).reshape(-1)\n",
    "\n",
    "mean_X = X_org.mean(axis=0)\n",
    "sd_X = X_org.std(axis=0)\n",
    "\n",
    "mean_y = y_org.mean()\n",
    "sd_y = y_org.std()\n",
    "\n",
    "X = (X_org - mean_X)/sd_X\n",
    "y = (y_org - mean_y)/sd_y"
   ]
  },
  {
   "cell_type": "markdown",
   "id": "ac9312a3",
   "metadata": {},
   "source": [
    "a) [10 pts] State the solution $x$ of the following problem\n",
    "$$\n",
    "\\underset{x}{\\arg \\min} \\,\\, (x-b)^{2}+\\lambda|x|, \\quad \\lambda>0\n",
    "$$\n",
    "Let's call the function we are trying to minimize $L(x)$:\n",
    "$$\n",
    "\\underset{x}{\\arg \\min} \\,\\, L(x), \\quad \\lambda>0\n",
    "$$\n",
    "Because we have a discontinuity in our function due to the absolute value, we solve the derivate in pieces by looking at regions before ($x>0$) and after ($x<0$) the discontinuity.\n",
    "\n",
    "When $x>0$:\n",
    "$$\n",
    "\\frac{\\delta L}{\\delta x} = 2(x-b)+\\lambda = 0\\\\\n",
    "x = b - \\frac{\\lambda}{2}\n",
    "$$\n",
    "When $x<0$:\n",
    "$$\n",
    "\\frac{\\delta L}{\\delta x} = 2(x-b)-\\lambda = 0\\\\\n",
    "x = b + \\frac{\\lambda}{2}\n",
    "$$\n",
    "\n",
    "$$x=\n",
    "\\begin{cases}\n",
    "      b-\\frac{\\lambda}{2}, & \\text{if}\\ b>\\frac{\\lambda}{2} \\\\\n",
    "      b+\\frac{\\lambda}{2}, & \\text{if}\\ b<-\\frac{\\lambda}{2} \\\\\n",
    "      0, & \\text{otherwise}\n",
    "\\end{cases}\n",
    "$$\n",
    "\n",
    "\n",
    "\n",
    "Then, implement a function in the form of `soft_th <- function(b, lambda)` to return the result of the above problem. Note in the coordinate descent discussed in the slides, where $b$ is an OLS estimator, and $\\lambda$ is the penalty parameter. Report the function output for the following testing cases with $\\lambda = 0.3$: 1) $b = 1$; 2) $b = -1$; 3) $b = -0.1$."
   ]
  },
  {
   "cell_type": "code",
   "execution_count": 31,
   "id": "8fadb8dc",
   "metadata": {},
   "outputs": [],
   "source": [
    "def soft_th(b, lam):\n",
    "    half_lam = lam/2\n",
    "    if(b > half_lam):\n",
    "        return b - half_lam\n",
    "    elif(b < -half_lam):\n",
    "        return b + half_lam\n",
    "    else:\n",
    "        return 0  "
   ]
  },
  {
   "cell_type": "code",
   "execution_count": 32,
   "id": "e73bce30",
   "metadata": {},
   "outputs": [
    {
     "data": {
      "text/html": [
       "<div>\n",
       "<style scoped>\n",
       "    .dataframe tbody tr th:only-of-type {\n",
       "        vertical-align: middle;\n",
       "    }\n",
       "\n",
       "    .dataframe tbody tr th {\n",
       "        vertical-align: top;\n",
       "    }\n",
       "\n",
       "    .dataframe thead th {\n",
       "        text-align: right;\n",
       "    }\n",
       "</style>\n",
       "<table border=\"1\" class=\"dataframe\">\n",
       "  <thead>\n",
       "    <tr style=\"text-align: right;\">\n",
       "      <th></th>\n",
       "      <th>lambda = 0.3</th>\n",
       "    </tr>\n",
       "  </thead>\n",
       "  <tbody>\n",
       "    <tr>\n",
       "      <th>b = 1</th>\n",
       "      <td>0.85</td>\n",
       "    </tr>\n",
       "    <tr>\n",
       "      <th>b = -1</th>\n",
       "      <td>-0.85</td>\n",
       "    </tr>\n",
       "    <tr>\n",
       "      <th>b = -0.1</th>\n",
       "      <td>0.00</td>\n",
       "    </tr>\n",
       "  </tbody>\n",
       "</table>\n",
       "</div>"
      ],
      "text/plain": [
       "          lambda = 0.3\n",
       "b = 1             0.85\n",
       "b = -1           -0.85\n",
       "b = -0.1          0.00"
      ]
     },
     "metadata": {},
     "output_type": "display_data"
    }
   ],
   "source": [
    "lam = 0.3\n",
    "\n",
    "dict = {\n",
    "        'b = 1' : [soft_th(1, lam)],\n",
    "        'b = -1' : [soft_th(-1, lam)],\n",
    "        'b = -0.1' : [soft_th(-0.1, lam)],\n",
    "       }\n",
    "\n",
    "df = pd.DataFrame(dict)\n",
    "df = df.rename(index={0: 'lambda = 0.3'})\n",
    "display(df.T)"
   ]
  },
  {
   "cell_type": "markdown",
   "id": "4b396c3d",
   "metadata": {},
   "source": [
    "b) [40 pts] We will use the pre-scale and centered data `X` and `y` for this question, hence no intercept is needed. Write a Lasso algorithm function `myLasso(X, y, lambda, beta_init, tol, maxitr)`,  which return two outputs (as a list with two components): \n",
    "- a vector of $\\beta$ values **without** the intercept \n",
    "- number of iterations\n",
    "    \n",
    "You need to consider the following while completing this question:\n",
    "- Do not use functions from any additional library\n",
    "- Start with a vector `beta_init`: $\\boldsymbol \\beta = \\mathbf{0}_{p \\times 1}$\n",
    "- Use the soft-threshold function in the iteration when performing the coordinate-wise update. \n",
    "- Use the efficient $\\mathbf{r}$ updating appraoch (we discussed this in lecture and HW4) in the iteration\n",
    "- Run your coordinate descent algorithm for a maximum of `maxitr` = 100 iterations. Each iteration should loop through all variables. \n",
    "- You should implement the early stopping rule with `tol`. This means terminating the algorithm when the $\\boldsymbol \\beta$ value of the current iteration is sufficiently similar to the previous one, i.e., $\\lVert \\boldsymbol \\beta^{(k)} - \\boldsymbol \\beta^{(k-1)} \\rVert^2 \\leq \\text{tol}$. \n",
    "\n",
    "Aftering completing your code, run it on the data we generated previously. Provide the following results: \n",
    "- Print out the first 8 coefficients and the number of iterations.\n",
    "- Check and compare your answer to the `glmnet` package using the following code. You should report their __first 8 coefficients__ and the $L_1$ norm of the difference $\\| \\, \\hat{\\boldsymbol\\beta}^\\text{glment}_{[1:8]} - \\hat{\\boldsymbol\\beta}^\\text{yours}_{[1:8]} \\, \\|_1$. \n",
    "\n",
    "```{r}\n",
    "  library(glmnet)\n",
    "  # glmnetfit use a different loss function. Use lambda / 2 as the penalty\n",
    "  glmnetfit = glmnet(X, y, lambda = lambda / 2, intercept = FALSE)\n",
    "  glmnetfit$beta[1:8]\n",
    "```"
   ]
  },
  {
   "cell_type": "code",
   "execution_count": 33,
   "id": "c891fb38",
   "metadata": {},
   "outputs": [],
   "source": [
    "def myLasso(X, y, lam, beta_init, tol, max_iter):\n",
    "    beta = beta_init\n",
    "\n",
    "    for k in range(max_iter):\n",
    "        r = y - X @ beta\n",
    "        beta_to_set = np.zeros(X.shape[1])\n",
    "        for j in range(p):\n",
    "            r = r + X[:,j] * beta[j]\n",
    "            beta_ols_j = np.mean(r * X[:,j])\n",
    "            beta_to_set[j] = soft_th(beta_ols_j, lam)\n",
    "            r = r - X[:,j] * beta_to_set[j]\n",
    "            \n",
    "        # tolerance check    \n",
    "        if(np.linalg.norm((beta - beta_to_set), ord=1) <= tol):\n",
    "            #print(f'Converged at {k} ({np.linalg.norm((beta - beta_to_set), ord=1)})')\n",
    "            return beta\n",
    "        beta = beta_to_set\n",
    "        \n",
    "        \n",
    "    return beta"
   ]
  },
  {
   "cell_type": "code",
   "execution_count": 34,
   "id": "9fa98908",
   "metadata": {},
   "outputs": [
    {
     "name": "stdout",
     "output_type": "stream",
     "text": [
      "First 8 betas:\n",
      "[ 0.          0.15823488  0.42964715 -0.51944529 -0.17147606 -0.00664524\n",
      "  0.          0.        ]\n",
      "L1 Norm: 3.221376238398809e-05\n"
     ]
    }
   ],
   "source": [
    "n = 100\n",
    "p = 200\n",
    "betas_lasso = myLasso(X, y, lam, np.zeros(p), 1e-7, 100)\n",
    "print('First 8 betas:')\n",
    "print(betas_lasso[0:8])\n",
    "\n",
    "# I saved the betas from the R file and loaded here:\n",
    "betas_glmnet = np.array(pd.read_csv('./data/beta_glmnet.csv')).reshape(-1)\n",
    "first_eight_betas_glmnet = betas_glmnet[0:8] \n",
    "L1_norm = np.linalg.norm((first_eight_betas_glmnet - betas_lasso[0:8]), ord=1)\n",
    "print(f'L1 Norm: {L1_norm}')"
   ]
  },
  {
   "cell_type": "markdown",
   "id": "ec2a4d47",
   "metadata": {},
   "source": [
    "# Question 2 [50 Points] Path-wise Coordinate Descent\n",
    "\n",
    "Let's perform path-wise coordinate descent. The idea is simple: we will solve the solution on a sequence of $\\lambda$ values, starting from the largest one in the sequence. The first initial $\\boldsymbol\\beta$ are still all zero. After obtaining the optimal $\\boldsymbol \\beta$ for a given $\\lambda$, we simply use this solution as the initial value for the next, smaller $\\lambda$. This is referred to as a __warm start__ in optimization problems. We will consider the following sequence of $\\lambda$ borrowed from `glmnet`. Note that this is a decreasing sequence from large to small values.\n",
    "\n",
    "```{r}\n",
    "  glmnetfit = glmnet(X, y, intercept = FALSE)\n",
    "\n",
    "  # Again, twice lambda is used for our function\n",
    "  lambda_all = glmnetfit$lambda * 2\n",
    "  \n",
    "  # a matplot of the first 8 coefficients vs log scale of lambda\n",
    "  matplot(log(lambda_all), t(glmnetfit$beta[1:8, ]), type = \"l\", lwd = 2, \n",
    "          xlab = \"Log Lambda\",ylab = \"Estimated Beta\", main = \"glmnet\")\n",
    "  legend(\"topleft\", paste(\"beta\", 1:8, \"=\", c(1:3, -3:-1, 0, 0)), \n",
    "         col = 1:8, lty = 1:8, lwd = 2)\n",
    "  write.csv(lambda_all,\"/Users/harrisnisar/Documents/Stat 542/HW5/data/lambad_all.csv\", row.names = FALSE)\n",
    "```\n",
    "\n"
   ]
  },
  {
   "cell_type": "code",
   "execution_count": 35,
   "id": "4c6cb7fc",
   "metadata": {},
   "outputs": [],
   "source": [
    "lambda_all = np.array(pd.read_csv('./data/lambda_all.csv')).reshape(-1)"
   ]
  },
  {
   "cell_type": "markdown",
   "id": "70fd747d",
   "metadata": {},
   "source": [
    "a) [20 pts] Write a function `myLasso_pw <- function(X, y, lambda_all, tol, maxitr)`, which output a $p \\times N_{\\lambda}$ matrix. $N_{\\lambda}$ is the number of unique $\\lambda$ values. Also follow the above instruction at the beginning of this question to include the **warm start** for path-wise solution. Your `myLasso_pw` should make use of your `myLasso` in Question 1."
   ]
  },
  {
   "cell_type": "code",
   "execution_count": 36,
   "id": "9cedc6f1",
   "metadata": {},
   "outputs": [],
   "source": [
    "def myLasso_pw(X, y, lambda_all, tol, maxitr):\n",
    "    sorted_lambdas = np.flip(np.sort(lambda_all))\n",
    "    output = []\n",
    "    beta_init = np.zeros(X.shape[1])\n",
    "\n",
    "    for i in range(len(sorted_lambdas)):\n",
    "        lam = sorted_lambdas[i]\n",
    "        betas_i = myLasso(X, y, lam, beta_init, tol, maxitr)\n",
    "        output.append(betas_i)\n",
    "        beta_init = betas_i\n",
    "    return np.array(output).T"
   ]
  },
  {
   "cell_type": "code",
   "execution_count": 37,
   "id": "0b144ff2",
   "metadata": {},
   "outputs": [],
   "source": [
    "beta_pw = myLasso_pw(X, y, lambda_all, 1e-7, 100)"
   ]
  },
  {
   "cell_type": "markdown",
   "id": "0a271bd6",
   "metadata": {},
   "source": [
    "b) [5 pts] Provide the same plot as the above `glmnet` solution plot of the first 8 parameter in your solution path. Make the two plots side-by-side (e.g. `par(mfrow = c(1, 2)` in `R`) with `glmnet` on the left and your solution path on the right."
   ]
  },
  {
   "cell_type": "code",
   "execution_count": 38,
   "id": "9b0a07d6",
   "metadata": {},
   "outputs": [
    {
     "data": {
      "image/png": "[encoded data removed]",
      "text/plain": [
       "<Figure size 432x288 with 1 Axes>"
      ]
     },
     "metadata": {
      "needs_background": "light"
     },
     "output_type": "display_data"
    }
   ],
   "source": [
    "for i in range(8):\n",
    "    plt.plot(np.log(lambda_all), beta_pw[i,:], label=f'Beta {i+1}')\n",
    "plt.title('My Pathwise Lasso')\n",
    "plt.xlabel('Log Lambda')\n",
    "plt.ylabel('Estimated Beta')\n",
    "plt.legend()\n",
    "plt.show()"
   ]
  },
  {
   "cell_type": "markdown",
   "id": "d82a45d4",
   "metadata": {},
   "source": [
    "c) [5 pts] Based on your plot, if we decrease $\\lambda$ from its maximum value, which two variables enter (start to have nonzero values) the model first? You may denote your covariates as $X_1, ..., X_8$. \n",
    "\n",
    "$\\beta_4$ and $\\beta_3$. \n",
    "\n",
    "d) [5 pts] In Question 1, we calculated the L1 norm discrepancy between our solution and `glmnet` on the first 8 parameters. In this question, we will calculate the discrepancy on **all** coefficients, and over all $\\lambda$ parameters. After calculating the discrepancies, show a scatter plot of  **log($\\lambda$) vs. discrepancy**. Comment on what you observe."
   ]
  },
  {
   "cell_type": "code",
   "execution_count": 39,
   "id": "5f6795ff",
   "metadata": {},
   "outputs": [
    {
     "data": {
      "image/png": "[encoded data removed]",
      "text/plain": [
       "<Figure size 432x288 with 1 Axes>"
      ]
     },
     "metadata": {
      "needs_background": "light"
     },
     "output_type": "display_data"
    }
   ],
   "source": [
    "## TO-DO: Answer d\n",
    "discrepancy = []\n",
    "for i in range(len(lambda_all)):\n",
    "    lam_i = lambda_all[i]\n",
    "    discrepancy.append(np.linalg.norm((betas_glmnet - beta_pw[:,i]), ord=1))\n",
    "discrepancy = np.array(discrepancy)\n",
    "\n",
    "plt.plot(np.log(lambda_all), discrepancy)\n",
    "plt.title('log( lambda ) vs. discrepancy')\n",
    "plt.xlabel('log( lambda )')\n",
    "plt.ylabel('discrepancy')\n",
    "plt.show()"
   ]
  },
  {
   "cell_type": "markdown",
   "id": "a9bb0ada",
   "metadata": {},
   "source": [
    "e) [15 pts] Based on the solution you obtained in the previous question, recover the unscaled coefficients using the formula in HW4. Then compare the first 9 coefficients (including the intercept term) with the following using a similar plot in b). Report the maximum value of discrepancy (see d) across all $\\lambda$ values."
   ]
  },
  {
   "cell_type": "code",
   "execution_count": 68,
   "id": "309db909",
   "metadata": {},
   "outputs": [
    {
     "name": "stdout",
     "output_type": "stream",
     "text": [
      "[0. 0. 0. 0. 0. 0. 0. 0. 0.]\n",
      "[ 0.          0.          0.         -0.02620161  0.          0.\n",
      "  0.          0.          0.        ]\n",
      "[ 0.          0.          0.         -0.05121232  0.          0.\n",
      "  0.          0.          0.        ]\n",
      "[ 0.          0.          0.         -0.07508625  0.          0.\n",
      "  0.          0.          0.        ]\n",
      "[ 0.          0.          0.02200321 -0.10334896  0.          0.\n",
      "  0.          0.          0.        ]\n",
      "[ 0.          0.          0.05096003 -0.13230577  0.          0.\n",
      "  0.          0.          0.        ]\n",
      "[ 0.          0.          0.07860071 -0.15994645  0.          0.\n",
      "  0.          0.          0.        ]\n",
      "[ 0.          0.          0.10498508 -0.18633083  0.          0.\n",
      "  0.          0.          0.        ]\n",
      "[ 0.          0.          0.13017024 -0.21151599  0.          0.\n",
      "  0.          0.          0.        ]\n",
      "[ 0.          0.          0.1542107  -0.23555644  0.          0.\n",
      "  0.          0.          0.        ]\n",
      "[ 0.          0.          0.1771584  -0.25850421  0.          0.\n",
      "  0.          0.          0.        ]\n",
      "[ 0.          0.          0.19906318 -0.28040898  0.          0.\n",
      "  0.          0.          0.        ]\n",
      "[ 0.          0.          0.21997234 -0.30131814  0.          0.\n",
      "  0.          0.          0.        ]\n",
      "[ 0.          0.          0.23993116 -0.32127695  0.          0.\n",
      "  0.          0.          0.        ]\n",
      "[ 0.          0.          0.25898281 -0.3403286   0.          0.\n",
      "  0.          0.          0.        ]\n",
      "[ 0.          0.          0.27716854 -0.35851433  0.          0.\n",
      "  0.          0.          0.        ]\n",
      "[ 0.          0.          0.2945277  -0.37587348  0.          0.\n",
      "  0.          0.          0.        ]\n",
      "[ 0.          0.00673348  0.30820122 -0.39289343  0.          0.\n",
      "  0.          0.          0.        ]\n",
      "[ 0.          0.0221146   0.32097546 -0.406818   -0.01651807  0.\n",
      "  0.          0.          0.        ]\n",
      "[ 0.          0.03755861  0.33330436 -0.41978227 -0.03442552  0.\n",
      "  0.          0.          0.        ]\n",
      "[ 0.          0.05230062  0.34507292 -0.4321573  -0.05151903  0.\n",
      "  0.          0.          0.        ]\n",
      "[ 0.          0.06637257  0.35630658 -0.44396985 -0.06783562  0.\n",
      "  0.          0.          0.        ]\n",
      "[ 0.          0.07980494  0.36702966 -0.45524551 -0.08341059  0.\n",
      "  0.          0.          0.        ]\n",
      "[ 0.          0.09262678  0.37726535 -0.46600868 -0.09827766  0.\n",
      "  0.          0.          0.        ]\n",
      "[ 0.          0.10486585  0.38703581 -0.47628264 -0.11246899  0.\n",
      "  0.          0.          0.        ]\n",
      "[ 0.          0.11654864  0.3963622  -0.48608963 -0.12601531  0.\n",
      "  0.          0.          0.        ]\n",
      "[ 0.          0.12770042  0.40526468 -0.49545088 -0.13894592  0.\n",
      "  0.          0.          0.        ]\n",
      "[ 0.          0.13834534  0.41376253 -0.50438665 -0.15128882  0.\n",
      "  0.          0.          0.        ]\n",
      "[ 0.          0.14858789  0.42194014 -0.51275428 -0.16276068 -0.00093501\n",
      "  0.          0.          0.        ]\n",
      "[ 0.          0.15881455  0.43011022 -0.51984733 -0.17199975 -0.00698832\n",
      "  0.          0.          0.        ]\n",
      "[ 0.          0.16857641  0.43790895 -0.52661802 -0.1808189  -0.0127665\n",
      "  0.          0.          0.        ]\n",
      "[ 0.          0.17789458  0.44535322 -0.53308097 -0.18923722 -0.01828204\n",
      "  0.          0.          0.        ]\n",
      "[ 0.          0.18678922  0.45245913 -0.53925016 -0.1972729  -0.0235469\n",
      "  0.          0.          0.        ]\n",
      "[ 0.          0.19527959  0.45924207 -0.54513896 -0.20494335 -0.02857246\n",
      "  0.          0.          0.        ]\n",
      "[ 0.          0.20338406  0.46571671 -0.5507601  -0.21226517 -0.0333696\n",
      "  0.          0.          0.        ]\n",
      "[ 0.          0.2111202   0.47189707 -0.55612578 -0.21925423 -0.03794869\n",
      "  0.          0.          0.        ]\n",
      "[ 0.00594841  0.21859801  0.47722192 -0.56250596 -0.22632026 -0.04381973\n",
      "  0.          0.          0.        ]\n",
      "[ 0.01476195  0.22578518  0.48200185 -0.56925954 -0.2332732  -0.05021458\n",
      "  0.          0.          0.        ]\n",
      "[ 0.02317489  0.23264568  0.48656452 -0.57570616 -0.23991013 -0.05631877\n",
      "  0.          0.          0.        ]\n",
      "[ 0.03120545  0.23919436  0.49091981 -0.58185977 -0.24624539 -0.06214552\n",
      "  0.          0.          0.        ]\n",
      "[ 0.03887101  0.24544539  0.49507715 -0.58773368 -0.25229271 -0.06770743\n",
      "  0.          0.          0.        ]\n",
      "[ 0.04618815  0.2514123   0.49904553 -0.59334062 -0.25806517 -0.07301655\n",
      "  0.          0.          0.        ]\n",
      "[ 0.05317272  0.257108    0.50283354 -0.59869272 -0.26357526 -0.07808435\n",
      "  0.          0.          0.        ]\n",
      "[ 0.05983984  0.26254483  0.50644938 -0.60380155 -0.26883491 -0.08292182\n",
      "  0.          0.          0.        ]\n",
      "[ 0.06620392  0.26773455  0.50990088 -0.60867818 -0.2738555  -0.08753942\n",
      "  0.          0.          0.        ]\n",
      "[ 0.07227874  0.27268838  0.51319549 -0.61333316 -0.27864789 -0.09194714\n",
      "  0.          0.          0.        ]\n",
      "[ 0.07807745  0.27741706  0.51634037 -0.61777656 -0.28322247 -0.09615453\n",
      "  0.          0.          0.        ]\n",
      "[ 0.08361194  0.28181977  0.51968458 -0.62182576 -0.28730267 -0.09959285\n",
      "  0.          0.          0.        ]\n",
      "[ 0.08889481  0.28601123  0.52291118 -0.62567161 -0.29116866 -0.10281683\n",
      "  0.          0.          0.        ]\n",
      "[ 0.09386681  0.29004625  0.52598255 -0.62923274 -0.29489    -0.10581744\n",
      "  0.          0.          0.        ]\n",
      "[ 0.09888382  0.29469382  0.52932779 -0.63119884 -0.29766204 -0.10844392\n",
      "  0.          0.          0.        ]\n",
      "[ 0.10370486  0.29951512  0.53248738 -0.63275158 -0.29993535 -0.11095069\n",
      "  0.          0.          0.        ]\n",
      "[ 0.10831215  0.30408089  0.53566991 -0.63408155 -0.30197173 -0.11353815\n",
      "  0.          0.          0.        ]\n",
      "[ 0.11271003  0.30843914  0.53870779 -0.63535107 -0.30391555 -0.11600801\n",
      "  0.          0.          0.        ]\n",
      "[ 0.1168394   0.312559    0.54156954 -0.63653768 -0.30578612 -0.11832688\n",
      "  0.          0.          0.        ]\n",
      "[ 0.12015571  0.31580072  0.54388161 -0.63741319 -0.30774056 -0.12022992\n",
      "  0.          0.          0.        ]\n",
      "[ 0.1233175   0.31891859  0.54611807 -0.63821032 -0.30959635 -0.1220641\n",
      "  0.          0.          0.        ]\n",
      "[ 0.12630691  0.32207305  0.54847626 -0.63867872 -0.3112935  -0.12394862\n",
      "  0.          0.          0.        ]\n",
      "[ 0.12916045  0.32508413  0.55072726 -0.63912583 -0.31291351 -0.12574749\n",
      "  0.          0.          0.        ]\n",
      "[ 0.13188429  0.32795836  0.55287595 -0.63955262 -0.31445989 -0.12746459\n",
      "  0.          0.          0.        ]\n",
      "[ 0.13418582  0.33080429  0.55492602 -0.63965676 -0.31607214 -0.12898995\n",
      "  0.          0.          0.        ]\n",
      "[ 0.13602057  0.33295986  0.55643147 -0.63972931 -0.31774934 -0.13015245\n",
      "  0.          0.          0.        ]\n",
      "[ 0.13762273  0.3347184   0.55775777 -0.6400502  -0.31933435 -0.1313555\n",
      "  0.          0.          0.        ]\n",
      "[ 0.13901419  0.33649455  0.55914298 -0.64012722 -0.32079563 -0.132391\n",
      "  0.          0.          0.        ]\n",
      "[ 0.14027371  0.33811785  0.5606531  -0.64026479 -0.32191043 -0.13330676\n",
      "  0.          0.          0.        ]\n",
      "[ 0.14140066  0.33960336  0.5621975  -0.64039188 -0.32291229 -0.13399286\n",
      "  0.          0.          0.        ]\n",
      "[ 0.14196475  0.34052405  0.56323964 -0.64091406 -0.32394134 -0.1343702\n",
      "  0.          0.          0.        ]\n",
      "[ 0.1423997   0.34140861  0.56405949 -0.64141806 -0.32487591 -0.13473348\n",
      "  0.          0.          0.        ]\n",
      "[ 0.14268427  0.34226797  0.56448122 -0.6418122  -0.32552054 -0.13498902\n",
      "  0.          0.          0.        ]\n",
      "[ 1.43032665e-01  3.43054100e-01  5.64802982e-01 -6.42478436e-01\n",
      " -3.26381031e-01 -1.35195220e-01  5.92192021e-04  0.00000000e+00\n",
      "  0.00000000e+00]\n",
      "[ 0.14338326  0.3437765   0.56527761 -0.64333707 -0.32750494 -0.13546988\n",
      "  0.00086249  0.          0.        ]\n",
      "[ 0.14371344  0.34446287  0.5657184  -0.64416328 -0.32857577 -0.13572258\n",
      "  0.00111225  0.          0.        ]\n",
      "[ 0.14415164  0.34499913  0.56608843 -0.64496238 -0.32948865 -0.13599878\n",
      "  0.00111557  0.          0.        ]\n",
      "[ 0.14480444  0.34546149  0.56657255 -0.64563129 -0.3301882  -0.13639222\n",
      "  0.00091887  0.          0.        ]\n",
      "[ 1.45374050e-01  3.45747514e-01  5.66972790e-01 -6.46346510e-01\n",
      " -3.30705338e-01 -1.36812181e-01  4.91809079e-04  0.00000000e+00\n",
      "  0.00000000e+00]\n",
      "[ 1.45906030e-01  3.45981250e-01  5.67340657e-01 -6.47047079e-01\n",
      " -3.31165132e-01 -1.37226945e-01  2.76125897e-05  0.00000000e+00\n",
      "  0.00000000e+00]\n",
      "[ 0.1462763   0.34601042  0.56738451 -0.6475401  -0.33132901 -0.13762855\n",
      "  0.          0.          0.        ]\n",
      "[ 0.14654438  0.34565115  0.56761528 -0.64770183 -0.33118653 -0.13791188\n",
      "  0.          0.          0.        ]\n",
      "[ 0.14639918  0.34529601  0.56781926 -0.64762775 -0.33101691 -0.13783793\n",
      "  0.          0.          0.        ]\n",
      "[ 0.14598004  0.34480791  0.5677583  -0.64691599 -0.33118306 -0.137607\n",
      "  0.          0.          0.        ]\n",
      "[ 0.14571441  0.34485534  0.56736205 -0.64577614 -0.33119225 -0.13749122\n",
      "  0.          0.          0.        ]\n",
      "[ 0.14545103  0.34530008  0.56655444 -0.64427857 -0.33129539 -0.13718622\n",
      "  0.          0.          0.        ]\n",
      "[ 0.14514461  0.34595064  0.56563853 -0.64272222 -0.33131065 -0.13702086\n",
      "  0.          0.          0.        ]\n",
      "[ 0.14490395  0.3467208   0.56460966 -0.64083929 -0.33130327 -0.13701745\n",
      "  0.          0.          0.        ]\n",
      "[ 0.14470901  0.3474193   0.56363265 -0.63904897 -0.33130897 -0.13703901\n",
      "  0.          0.          0.        ]\n",
      "[ 1.44684033e-01  3.47984336e-01  5.62686382e-01 -6.37504787e-01\n",
      " -3.31365009e-01 -1.37151966e-01  4.79748546e-05  0.00000000e+00\n",
      "  0.00000000e+00]\n",
      "[ 0.14463205  0.3485888   0.56171434 -0.63606722 -0.33147956 -0.13719169\n",
      "  0.00064064  0.          0.        ]\n",
      "[ 0.14451172  0.34896411  0.56085381 -0.63480656 -0.3314622  -0.13694292\n",
      "  0.00113428  0.          0.        ]\n",
      "[ 0.14440169  0.3493245   0.56007783 -0.63360394 -0.33147328 -0.13673922\n",
      "  0.00164835  0.          0.        ]\n",
      "[ 0.14419432  0.34939306  0.55938218 -0.63242244 -0.33165554 -0.13652017\n",
      "  0.00231268  0.          0.        ]\n",
      "[ 0.1444527   0.34935842  0.55881875 -0.63149485 -0.33139445 -0.13667763\n",
      "  0.00294328  0.          0.        ]\n",
      "[ 0.14504543  0.34954556  0.55835199 -0.63102065 -0.33112069 -0.13698017\n",
      "  0.00393906  0.          0.        ]\n",
      "[ 0.14565883  0.34940153  0.55822623 -0.63081233 -0.33073529 -0.1375049\n",
      "  0.00494115  0.          0.        ]\n",
      "[ 0.14614386  0.34934732  0.55810167 -0.63057801 -0.33030295 -0.13802271\n",
      "  0.00604519  0.          0.        ]\n",
      "[ 0.14626205  0.34947577  0.55782082 -0.63040602 -0.32955892 -0.13860947\n",
      "  0.00734272  0.          0.        ]\n",
      "[ 0.14626807  0.34968995  0.55762821 -0.63025358 -0.32888296 -0.13913674\n",
      "  0.00865898  0.          0.        ]\n",
      "[ 0.146231    0.3499432   0.55747376 -0.63010813 -0.3282517  -0.13963026\n",
      "  0.00994717  0.          0.        ]\n",
      "[ 0.14619603  0.35018578  0.55732639 -0.62996878 -0.32764906 -0.14010179\n",
      "  0.0111763   0.          0.        ]\n",
      "[ 0.14615676  0.35043207  0.55712109 -0.62989512 -0.32711073 -0.14057043\n",
      "  0.01231535  0.          0.        ]\n",
      "[ 0.14611152  0.35069706  0.5568767  -0.62983728 -0.32662163 -0.14102022\n",
      "  0.01338573  0.          0.        ]\n"
     ]
    }
   ],
   "source": [
    "betas_glmnet2 = np.array(pd.read_csv('./data/lassobeta2.csv'))\n",
    "\n",
    "betas_mylasso2 = []\n",
    "for i in range(len(lambda_all)):\n",
    "    gamas = beta_pw[:,i][0:9]\n",
    "    recovered_betas = []\n",
    "    recovered_intercept = mean_y - np.sum(mean_X[1:9]*((sd_y*gamas[1:])/sd_X[1:9]))\n",
    "    recovered_betas.append(recovered_intercept)\n",
    "    for j in np.arange(1,9):\n",
    "        recovered_betas.append((sd_y*gamas[j])/sd_X[j])\n",
    "    betas_mylasso2.append(recovered_betas)\n",
    "betas_mylasso2 = np.array(betas_mylasso2).T"
   ]
  },
  {
   "cell_type": "code",
   "execution_count": 67,
   "id": "1757a1a1",
   "metadata": {},
   "outputs": [
    {
     "name": "stdout",
     "output_type": "stream",
     "text": [
      "(9, 100)\n",
      "[-0.03087064  0.4462523   1.46714792  2.59708596 -2.64357635 -1.41479541\n",
      " -0.47275659  0.          0.        ]\n",
      "[ 0.04267335  0.31136411  0.5497954  -0.559782   -0.30019196 -0.10097131\n",
      "  0.          0.          0.        ]\n"
     ]
    }
   ],
   "source": [
    "print(betas_mylasso2.shape)\n",
    "print(betas_glmnet2[:,45])\n",
    "print(betas_mylasso2[:,45])"
   ]
  },
  {
   "cell_type": "code",
   "execution_count": 69,
   "id": "ae2afb86",
   "metadata": {},
   "outputs": [
    {
     "data": {
      "image/png": "[encoded data removed]",
      "text/plain": [
       "<Figure size 432x288 with 1 Axes>"
      ]
     },
     "metadata": {
      "needs_background": "light"
     },
     "output_type": "display_data"
    }
   ],
   "source": [
    "for i in range(9):\n",
    "    plt.plot(np.log(lambda_all), betas_mylasso2[i,:], label=f'Beta {i+1}')\n",
    "    \n",
    "for i in range(8):\n",
    "    plt.plot(np.log(lambda_all), beta_pw[i,:], label=f'Beta {i+1}')"
   ]
  },
  {
   "cell_type": "code",
   "execution_count": null,
   "id": "a395675e",
   "metadata": {},
   "outputs": [],
   "source": []
  }
 ],
 "metadata": {
  "authors": [
   {
    "name": "Harris Nisar (nisar2)"
   }
  ],
  "celltoolbar": "Edit Metadata",
  "kernelspec": {
   "display_name": "Python 3 (ipykernel)",
   "language": "python",
   "name": "python3"
  },
  "language_info": {
   "codemirror_mode": {
    "name": "ipython",
    "version": 3
   },
   "file_extension": ".py",
   "mimetype": "text/x-python",
   "name": "python",
   "nbconvert_exporter": "python",
   "pygments_lexer": "ipython3",
   "version": "3.8.11"
  },
  "title": "Stat 542 HW5"
 },
 "nbformat": 4,
 "nbformat_minor": 5
}
