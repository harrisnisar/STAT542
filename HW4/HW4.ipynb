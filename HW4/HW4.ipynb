{
 "cells": [
  {
   "cell_type": "code",
   "execution_count": 1,
   "id": "039a4666",
   "metadata": {
    "tags": [
     "remove-cell"
    ]
   },
   "outputs": [],
   "source": [
    "# jupyter nbconvert HW4.ipynb --TagRemovePreprocessor.remove_cell_tags='{\"remove-cell\"}' --to pdf \n",
    "import numpy as np\n",
    "import matplotlib.pyplot as plt\n",
    "import pandas as pd\n",
    "import statsmodels.api as sm\n",
    "from scipy.optimize import minimize\n",
    "%matplotlib inline\n",
    "%config InlineBackend.figure_format = 'png'\n",
    "\n",
    "from pylab import rcParams\n",
    "rcParams.update({\"axes.grid\" : True})\n",
    "rcParams['figure.figsize'] = (6,4)\n",
    "rcParams['lines.linewidth'] = 1\n",
    "rcParams['image.cmap'] = 'Greys'\n",
    "rcParams['axes.spines.right'] = False\n",
    "rcParams['axes.spines.top'] = False\n",
    "rcParams['font.weight'] = 400\n",
    "rcParams['font.size'] = 9\n",
    "rcParams['xtick.color'] = '#111111'\n",
    "rcParams['ytick.color'] = '#111111'\n",
    "rcParams['grid.color'] = '#dddddd'\n",
    "rcParams['grid.linestyle'] = '-'\n",
    "rcParams['grid.linewidth'] = 0.5\n",
    "rcParams['axes.titlesize'] = 12\n",
    "rcParams['axes.titleweight'] = 500\n",
    "rcParams['axes.labelsize'] = 10\n",
    "rcParams['axes.labelweight'] = 400\n",
    "rcParams['axes.linewidth'] = 0.5\n",
    "rcParams['axes.edgecolor'] = [.25,.25,.25]"
   ]
  },
  {
   "cell_type": "markdown",
   "id": "cb99db03",
   "metadata": {},
   "source": [
    "# Question 1 [35 Points] Regression and Optimization with Huber Loss\n",
    "\n",
    "When fitting linear regressions, outliers could significantly affect the fitting results. However, manually checking and removing outliers can be tricky and time consuming. Some regression methods address this problem by using a more robust loss function. For example, one such regression is to minimize the objective function \n",
    "\n",
    "$$\n",
    "\\frac{1}{n} \\sum_{i=1}^n \\ell_\\delta(y_i - x_i^\\text{T} \\boldsymbol \\beta),\n",
    "$$\n",
    "\n",
    "where the loss function $\\ell_{\\delta}$ is the __Huber Loss__, defined as\n",
    "$$\n",
    "\\ell_\\delta( a ) =   \\begin{cases}\n",
    "    \\frac{1}{2} a^2       & \\quad \\text{if } |a| \\leq \\delta \\\\\n",
    "    \\delta(|a| - \\frac{1}{2} \\delta)  & \\quad \\text{o.w.}\n",
    "  \\end{cases}\n",
    "$$\n",
    "\n",
    "Here is a visualization that compares Huber loss with the $\\ell_2$ loss. We can see that the Huber loss assigns much less value when $y_i - x_i^\\text{T} \\boldsymbol \\beta$ is more extreme (outliers). "
   ]
  },
  {
   "cell_type": "code",
   "execution_count": 2,
   "id": "55168f5a",
   "metadata": {
    "hideCode": false,
    "hideOutput": false,
    "hidePrompt": false
   },
   "outputs": [
    {
     "data": {
      "image/png": "[encoded data removed]",
      "text/plain": [
       "<Figure size 432x288 with 1 Axes>"
      ]
     },
     "metadata": {
      "needs_background": "light"
     },
     "output_type": "display_data"
    }
   ],
   "source": [
    "def Huber(a, delta = 1):\n",
    "    to_return = np.where(np.abs(a)<=delta, 0.5*np.power(a,2), delta*(np.abs(a)-0.5*delta))\n",
    "    return to_return\n",
    "    \n",
    "# def Huber(a, delta = 1):\n",
    "#     return delta*delta*(np.power(1+np.power((a/delta),2),0.5)-1)\n",
    "\n",
    "x = np.linspace(-4,4,1000)\n",
    "huber_y = Huber(x)\n",
    "l2_y = 0.5 * np.power(x,2)\n",
    "plt.plot(x,huber_y, label='Huber Loss')\n",
    "plt.plot(x,l2_y, label='L2 Loss')\n",
    "plt.legend()\n",
    "plt.title(\"Comparing Huber Loss with L2 Loss\")\n",
    "plt.show()"
   ]
  },
  {
   "cell_type": "markdown",
   "id": "6954876e",
   "metadata": {},
   "source": [
    "Use the following code to generate the data (python equivalent to R code provided):"
   ]
  },
  {
   "cell_type": "code",
   "execution_count": 3,
   "id": "dae46644",
   "metadata": {},
   "outputs": [],
   "source": [
    "np.random.seed(542)\n",
    "n = 150\n",
    "x = np.random.uniform(size=(n,))\n",
    "ones = np.ones(n)\n",
    "X = np.column_stack((ones,x))\n",
    "beta = np.array([0.5,1])\n",
    "y = X@beta + np.random.normal(size=(n,))\n",
    "y[X[:,1].argmin()] = -30"
   ]
  },
  {
   "cell_type": "markdown",
   "id": "457ea08d",
   "metadata": {},
   "source": [
    "a) [5 pts] Fit an OLS model with the regular $\\ell_2$ loss. Report your coefficients (do not report other information). Although this is only one set of samples, but do you expect this estimator to be biased based on how we set up the observed data? Do you expect the parameter $\\beta_1$ to bias upwards or downwards? Explain your reason. Hint: is the outlier pulling the regression line slope up or down?"
   ]
  },
  {
   "cell_type": "code",
   "execution_count": 4,
   "id": "bcbb7d80",
   "metadata": {},
   "outputs": [
    {
     "name": "stdout",
     "output_type": "stream",
     "text": [
      "Beta 0: -0.32252335404905697\n",
      "Beta 1: 2.1994524885770206\n"
     ]
    }
   ],
   "source": [
    "OLS_model = sm.OLS(y,X).fit()\n",
    "print(f'Beta 0: {OLS_model.params[0]}\\nBeta 1: {OLS_model.params[1]}')"
   ]
  },
  {
   "cell_type": "markdown",
   "id": "eafb09bf",
   "metadata": {},
   "source": [
    "It is expected that this estimator is biased because the algorithm is sensitive to outliers. This leads to a model that will not fit well to the majority of the data. Since the outlier is pulling the data down, we expect the slope of the line of best to pull the slope up, leading to upwards bias. \n",
    "\n",
    "b) [10 pts] Define your own Huber loss function `huberLoss(b, trainX, trainY)` given a set of observed data with tuning parameter $\\delta = 1$. Here, `b` is a $p$-dim parameter vector, `trainX` is a $n \\times p$ design matrix and $trainY$ is the outcome. This function should return a scalar as the empirical loss. You can use our `Huber` function in your own code. After defining this loss function, use the `optim()` function to solve the parameter estimates. Finally, report your coefficients.  \n",
    "    - Use `b = (0, 0)` as the initial value.\n",
    "    - Use `BFGS` as the optimization method."
   ]
  },
  {
   "cell_type": "code",
   "execution_count": 5,
   "id": "0a600df8",
   "metadata": {},
   "outputs": [
    {
     "name": "stdout",
     "output_type": "stream",
     "text": [
      "Beta 0: 0.42098531186094384\n",
      "Beta 1: 1.0660410224987118\n"
     ]
    }
   ],
   "source": [
    "def huberLoss(b, trainX, trainY):\n",
    "    huber = Huber(trainY-trainX@b)\n",
    "    return (np.sum(huber))/len(trainY)\n",
    "\n",
    "res = minimize(huberLoss,np.array([0.0,0.0]), args=(X, y), method='BFGS')\n",
    "print(f'Beta 0: {res.x[0]}\\nBeta 1: {res.x[1]}')"
   ]
  },
  {
   "cell_type": "markdown",
   "id": "cf6be34b",
   "metadata": {},
   "source": [
    "c) [20 pts] We still do not know which method performs better in this case. Let's use a simulation study to compare the two methods. Complete the following\n",
    "\n",
    "- Set up a simulation for 1000 times. At each time, randomly generate a set of observed data, but also force the outlier with our code `y[which.min(X[, 2])] = -30`.\n",
    "- Fit the regression model with $\\ell_2$ loss and Huber loss, and record the slope variable estimates.\n",
    "- Make a side-by-side boxplot to show how these two methods differ in terms of the estimations. Which method seem to have more bias? and report the amount of bias based on your simulation. What can you conclude from the results? Does this match your expectation in part a)? Can you explain this (both OLS and Huber) with the form of loss function, in terms of what their effects are?"
   ]
  },
  {
   "cell_type": "code",
   "execution_count": 6,
   "id": "0dfe6470",
   "metadata": {},
   "outputs": [
    {
     "name": "stdout",
     "output_type": "stream",
     "text": [
      "OLS Bias: 1.2231792635017817\n",
      "Huber Bias: 0.0685168644248868\n"
     ]
    },
    {
     "data": {
      "image/png": "[encoded data removed]",
      "text/plain": [
       "<Figure size 432x288 with 1 Axes>"
      ]
     },
     "metadata": {
      "needs_background": "light"
     },
     "output_type": "display_data"
    }
   ],
   "source": [
    "np.random.seed(542)\n",
    "OLS_beta0s = []\n",
    "OLS_beta1s = []\n",
    "\n",
    "Huber_beta0s = []\n",
    "Huber_beta1s = []\n",
    "\n",
    "for i in range(1000):\n",
    "    # Generate Data:\n",
    "    n = 150\n",
    "    x = np.random.uniform(size=(n,))\n",
    "    ones = np.ones(n)\n",
    "    X = np.column_stack((ones,x))\n",
    "    beta = np.array([0.5,1])\n",
    "    y = X@beta + np.random.normal(size=(n,))\n",
    "    y[X[:,1].argmin()] = -30\n",
    "    \n",
    "    # OLS loss:\n",
    "    OLS_model = sm.OLS(y,X).fit()\n",
    "    OLS_beta0s.append(OLS_model.params[0])\n",
    "    OLS_beta1s.append(OLS_model.params[1])\n",
    "    \n",
    "    # Huber loss:\n",
    "    res = minimize(huberLoss,np.array([0.0,0.0]), args=(X, y), method='BFGS')\n",
    "    Huber_beta0s.append(res.x[0])\n",
    "    Huber_beta1s.append(res.x[1])\n",
    "\n",
    "OLS_beta1 = np.array(OLS_beta1s).mean()\n",
    "OLS_bias = OLS_beta1 - beta[1]\n",
    "\n",
    "Huber_beta1 = np.array(Huber_beta1s).mean()\n",
    "Huber_bias = Huber_beta1 - beta[1]\n",
    "\n",
    "print(f'OLS Bias: {OLS_bias}\\nHuber Bias: {Huber_bias}')\n",
    "\n",
    "plt.boxplot([OLS_beta0s, OLS_beta1s, Huber_beta0s, Huber_beta1s])\n",
    "plt.xticks([1,2,3,4],['OLS Beta 0','OLS Beta 1','Huber Beta 0','Huber Beta 1'])\n",
    "plt.title('Paramaters Calculated with Various Loss Functions')\n",
    "plt.show()"
   ]
  },
  {
   "cell_type": "markdown",
   "id": "b5846787",
   "metadata": {},
   "source": [
    "It appears that OLS has a higher bias (as we expected). Huber loss does not peanilize as much when the difference between the truth and prediction is very high, as indicated by the wider nature of the loss function. OLS peanilizes much more than Huber loss if the truth and prediction are different, as indicated by the narrow nature of the loss function. Adding an outlier will add a point that is very different leading to harsher penality with OLS. \n",
    "\n",
    "# Question 2 [65 Points] Scaling and Coordinate Descent for Linear Regression\n",
    "\n",
    "**Scaling issue** In the practice, we usually standardize each covariate/feature to mean 0 and standard deviation 1. Standardization is essential when we apply $\\ell_2$ and $\\ell_1$ penalty on the loss function, because if the covariates are with different scales, then they are penalized differently. Without prior information, we should prevent that from happening. Besides, scaling the data also help to make the optimization more stable, since the step size in many descent algorithms could be affected by the scale.\n",
    "\n",
    "In practice, after obtaining the coefficients fitted with scaled data, we want to recover the original coefficients of the unscaled data. For this question, we use the following intuition:\n",
    "\n",
    "\\begin{align}\n",
    "\\frac{Y - \\bar{Y}}{\\text{sd}_y} =&~ \\sum_{j=1}^p \\frac{X_j - \\bar{X}_j}{\\text{sd}_j} \\gamma_j \\\\\n",
    "Y =&~ \\underbrace{\\bar{Y} - \\sum_{j=1}^p \\bar{X}_j \\frac{\\text{sd}_y \\cdot \\gamma_j}{\\text{sd}_j}}_{\\beta_0} + \\sum_{j=1}^p X_j \\underbrace{\\frac{\\text{sd}_y \\cdot \\gamma_j}{\\text{sd}_j}}_{\\beta_j},\n",
    "\\end{align}\n",
    "\n",
    "  * In this equation, the first line is the model fitted with scaled and centered data. And we obtain the fitted parameters as $\\gamma_j$'s\n",
    "  * In the second line, the coefficients $\\beta_j$'s for the original data is recovered.\n",
    "  * When fitting the scaled and centered data, no intercept term is needed. \n",
    "\n",
    "Based on this relationship, we perform the following when fitting a linear regression:\n",
    "\n",
    "  * Center and scale both $\\mathbf{X}$ (column-wise) and $\\mathbf{y}$ and denote the processed data as $\\frac{Y - \\bar{Y}}{\\text{sd}_y}$ and $\\frac{X_j - \\bar{X}_j}{\\text{sd}_j}$ in the above formula. Make sure that the standard error of each variable is 1 after scaling. This means that you should use $N$, not $N-1$ when calculating the estimation of variance. \n",
    "  * Fit a linear regression using the processed data based on the no-intercept model, and obtain the parameter estimates $\\gamma_j$'s.\n",
    "  * Recover the original parameters $\\beta_0$ and $\\beta_j$'s.\n",
    "\n",
    "Use the following code to generate your data (python code equivalent to R code provided):"
   ]
  },
  {
   "cell_type": "code",
   "execution_count": 7,
   "id": "d66f72c6",
   "metadata": {},
   "outputs": [],
   "source": [
    "np.random.seed(10)\n",
    "n = 20\n",
    "p = 3\n",
    "\n",
    "# Covariance Matrix and Mean:\n",
    "V = np.full((3, 3), 0.3)\n",
    "np.fill_diagonal(V, 1.0)\n",
    "mean = np.array([0.0,0.0,0.0])\n",
    "\n",
    "# Generate Data:\n",
    "X_org = np.random.multivariate_normal(mean, V, size=20)\n",
    "true_b = np.array([1.0,2.0,0.0])\n",
    "y_org = X_org @ true_b + np.random.normal(size=(n,))"
   ]
  },
  {
   "cell_type": "markdown",
   "id": "e22c9da8",
   "metadata": {},
   "source": [
    "a) [10 pts] Fit an OLS estimator with the original data `Y_org` and `X_org` by `lm()`. Also, fit another OLS with scaled data by `lm()`. Report the coefficients/parameters. Then, transform coefficients from the second approach back to its original scale, and match with the first approach. Summarize your results in a single table: The rows should contain three methods: OLS, OLS Scaled, and OLS Recorded, and there should be four columns that represents the coefficients for each method. You can consider using the `kable` function, but it is not required. "
   ]
  },
  {
   "cell_type": "code",
   "execution_count": 8,
   "id": "31a9a0de",
   "metadata": {},
   "outputs": [
    {
     "data": {
      "text/html": [
       "<div>\n",
       "<style scoped>\n",
       "    .dataframe tbody tr th:only-of-type {\n",
       "        vertical-align: middle;\n",
       "    }\n",
       "\n",
       "    .dataframe tbody tr th {\n",
       "        vertical-align: top;\n",
       "    }\n",
       "\n",
       "    .dataframe thead th {\n",
       "        text-align: right;\n",
       "    }\n",
       "</style>\n",
       "<table border=\"1\" class=\"dataframe\">\n",
       "  <thead>\n",
       "    <tr style=\"text-align: right;\">\n",
       "      <th></th>\n",
       "      <th>0</th>\n",
       "      <th>1</th>\n",
       "      <th>2</th>\n",
       "      <th>3</th>\n",
       "    </tr>\n",
       "  </thead>\n",
       "  <tbody>\n",
       "    <tr>\n",
       "      <th>OLS</th>\n",
       "      <td>0.130692</td>\n",
       "      <td>0.738092</td>\n",
       "      <td>2.479597</td>\n",
       "      <td>0.115294</td>\n",
       "    </tr>\n",
       "    <tr>\n",
       "      <th>OLS Scaled</th>\n",
       "      <td>0.000000</td>\n",
       "      <td>0.364177</td>\n",
       "      <td>0.775572</td>\n",
       "      <td>0.040844</td>\n",
       "    </tr>\n",
       "    <tr>\n",
       "      <th>OLS Recovered</th>\n",
       "      <td>0.130692</td>\n",
       "      <td>0.738092</td>\n",
       "      <td>2.479597</td>\n",
       "      <td>0.115294</td>\n",
       "    </tr>\n",
       "  </tbody>\n",
       "</table>\n",
       "</div>"
      ],
      "text/plain": [
       "                      0         1         2         3\n",
       "OLS            0.130692  0.738092  2.479597  0.115294\n",
       "OLS Scaled     0.000000  0.364177  0.775572  0.040844\n",
       "OLS Recovered  0.130692  0.738092  2.479597  0.115294"
      ]
     },
     "metadata": {},
     "output_type": "display_data"
    }
   ],
   "source": [
    "mean_X = X_org.mean(axis=0)\n",
    "sd_X = X_org.std(axis=0)\n",
    "\n",
    "mean_y = y_org.mean()\n",
    "sd_y = y_org.std()\n",
    "\n",
    "X_processed = (X_org - mean_X)/sd_X\n",
    "y_processed = (y_org - mean_y)/sd_y\n",
    "\n",
    "X_org = sm.add_constant(X_org)\n",
    "model_org = sm.OLS(y_org,X_org)\n",
    "results_org = model_org.fit()\n",
    "\n",
    "beta0 = results_org.params[0]\n",
    "beta1 = results_org.params[1]\n",
    "beta2 = results_org.params[2]\n",
    "beta3 = results_org.params[3]\n",
    "betas = np.array([beta0, beta1, beta2, beta3])\n",
    "\n",
    "model_standardized = sm.OLS(y_processed,X_processed)\n",
    "results_standardized = model_standardized.fit()\n",
    "\n",
    "gama0 = 0.0\n",
    "gama1 = results_standardized.params[0]\n",
    "gama2 = results_standardized.params[1]\n",
    "gama3 = results_standardized.params[2]\n",
    "gamas = np.array([gama0, gama1, gama2, gama3])\n",
    "\n",
    "beta0_recovered = mean_y - np.sum(mean_X*((sd_y*gamas[1:])/sd_X))\n",
    "beta1_recovered = (sd_y*gamas[1])/sd_X[0]\n",
    "beta2_recovered = (sd_y*gamas[2])/sd_X[1]\n",
    "beta3_recovered = (sd_y*gamas[3])/sd_X[2]\n",
    "\n",
    "dict = {'OLS' : betas,\n",
    "        'OLS Scaled' : gamas,\n",
    "        'OLS Recovered' : [beta0_recovered, beta1_recovered, beta2_recovered, beta3_recovered]}\n",
    "df = pd.DataFrame(dict)\n",
    "# displaying the DataFrame\n",
    "display(df.T)"
   ]
  },
  {
   "cell_type": "markdown",
   "id": "68823284",
   "metadata": {},
   "source": [
    "b) Instead of using the `lm()` function, write your own coordinate descent code to solve the scaled problem. This function will be modified and used next week when we code the Lasso method. Complete the following steps:\n",
    "\n",
    "- [10 pts] i) Given the loss function $L(\\beta) =  \\| y - X\\beta\\|^2$ or  $\\sum_{i=1}^n (y_i - \\sum_{j=0}^p x_{ij} \\beta_j)^2$, derive the updating/calculation formula of coefficient $\\beta_j$, when holding all other covariates fixed. You must use LaTex to typeset your derivation with proper explaination of notations. Write down the formula (in terms of $y$, $x$ and $\\beta$'s) of residual $r$ before and after this update. Based on our lecture, how to make the update of $r$ computationally efficient? \n",
    "$$\n",
    "L(\\beta) = \\frac{1}{2}\\| y - X\\beta\\|^2\n",
    "$$\n",
    "Say $X_{(-j)}$ is our design matrix with the $j^{th}$ column removed, meaning $X_{(-j)} \\in R^{n \\times (p-1)}$. Say $X_{(j)}$ is the $j^{th}$ column of our design matrix, meaning $X_{(j)} \\in R^{n}$. Say $\\beta_{(-j)}$ parameter vector without the $j^{th}$ element, meaning $\\beta_{(-j)} \\in R^{p-1}$. Say $\\beta_{(j)}$ is our $j^{th}$ paramter, meaning $\\beta_{(j)} \\in R$. We can rewrite the loss function as:\n",
    "\n",
    "$$\n",
    "L(\\beta) = \\frac{1}{2}\\| y - (X_{(-j)}\\beta_{(-j)}+X_{(j)}\\beta_{(j)})\\|^2\n",
    "$$\n",
    "\n",
    "$$\n",
    "L(\\beta) = \\frac{1}{2}\\| y - X_{(-j)}\\beta_{(-j)}-X_{(j)}\\beta_{(j)}\\|^2\n",
    "$$\n",
    "\n",
    "$$\n",
    "\\nabla L(\\beta) = X_{(j)}^{T}(y - X_{(-j)}\\beta_{(-j)} - X_{(j)}\\beta_{(j)})\n",
    "$$\n",
    "\n",
    "$$\n",
    "\\nabla L(\\beta) = X_{(j)}^{T}(y - X_{(-j)}\\beta_{(-j)}) - X_{(j)}^{T}X_{(j)}\\beta_{(j)} = 0\n",
    "$$\n",
    "\n",
    "$$\n",
    "\\beta_{(j)} = \\frac{X_{(j)}^{T}(y - X_{(-j)}\\beta_{(-j)})}{X_{(j)}^{T}X_{(j)}}\n",
    "$$\n",
    "Now let $r = y - X_{(-j)}\\beta_{(-j)}$:\n",
    "$$\n",
    "\\beta_{(j)} = \\frac{r^{T}X_{(j)}}{X_{(j)}^{T}X_{(j)}}\n",
    "$$\n",
    "In order to make our computation of r efficient, we realize that if we remember the old value of r, we can use it to update using this rule:\n",
    "\n",
    "$$\n",
    "r^{new} = r - X_{(j)}\\beta_{(j)}^{(k+1)} + X_{(j+1)}\\beta_{(j+1)}^{(k)}\n",
    "$$"
   ]
  },
  {
   "cell_type": "markdown",
   "id": "c7d4310a",
   "metadata": {},
   "source": [
    "- [30 pts] ii) Implement this coordinate descent method with your own code to solve OLS with the scaled data. Print and report your **scaled coefficients** (no need to recover the original version) and compare with the result from the previous question.\n",
    "    - Do not use functions from any additional library.\n",
    "    - Start with a vector $\\boldsymbol \\beta = 0$.\n",
    "    - Run your coordinate descent algorithm for a maximum of maxitr = 100 iterations (while each iteration will loop through all variables). However, stop your algorithm if the $\\beta$ value of the current iteration is sufficiently similar to the previous one, i.e., $\\|\\beta^{(k)}− \\beta ^{(k−1)}\\|_1 \\leq$ tol. Set `tol = 1e-7` where $\\| \\cdot \\|_1$ is the L1 distance."
   ]
  },
  {
   "cell_type": "code",
   "execution_count": 9,
   "id": "deab30e9",
   "metadata": {},
   "outputs": [
    {
     "name": "stdout",
     "output_type": "stream",
     "text": [
      "Converged at 29\n"
     ]
    },
    {
     "data": {
      "text/html": [
       "<div>\n",
       "<style scoped>\n",
       "    .dataframe tbody tr th:only-of-type {\n",
       "        vertical-align: middle;\n",
       "    }\n",
       "\n",
       "    .dataframe tbody tr th {\n",
       "        vertical-align: top;\n",
       "    }\n",
       "\n",
       "    .dataframe thead th {\n",
       "        text-align: right;\n",
       "    }\n",
       "</style>\n",
       "<table border=\"1\" class=\"dataframe\">\n",
       "  <thead>\n",
       "    <tr style=\"text-align: right;\">\n",
       "      <th></th>\n",
       "      <th>0</th>\n",
       "      <th>1</th>\n",
       "      <th>2</th>\n",
       "      <th>3</th>\n",
       "    </tr>\n",
       "  </thead>\n",
       "  <tbody>\n",
       "    <tr>\n",
       "      <th>OLS</th>\n",
       "      <td>0.130692</td>\n",
       "      <td>0.738092</td>\n",
       "      <td>2.479597</td>\n",
       "      <td>0.115294</td>\n",
       "    </tr>\n",
       "    <tr>\n",
       "      <th>OLS Scaled</th>\n",
       "      <td>0.000000</td>\n",
       "      <td>0.364177</td>\n",
       "      <td>0.775572</td>\n",
       "      <td>0.040844</td>\n",
       "    </tr>\n",
       "    <tr>\n",
       "      <th>OLS Recovered</th>\n",
       "      <td>0.130692</td>\n",
       "      <td>0.738092</td>\n",
       "      <td>2.479597</td>\n",
       "      <td>0.115294</td>\n",
       "    </tr>\n",
       "    <tr>\n",
       "      <th>Coordinate Descent</th>\n",
       "      <td>0.000000</td>\n",
       "      <td>0.364177</td>\n",
       "      <td>0.775572</td>\n",
       "      <td>0.040844</td>\n",
       "    </tr>\n",
       "  </tbody>\n",
       "</table>\n",
       "</div>"
      ],
      "text/plain": [
       "                           0         1         2         3\n",
       "OLS                 0.130692  0.738092  2.479597  0.115294\n",
       "OLS Scaled          0.000000  0.364177  0.775572  0.040844\n",
       "OLS Recovered       0.130692  0.738092  2.479597  0.115294\n",
       "Coordinate Descent  0.000000  0.364177  0.775572  0.040844"
      ]
     },
     "metadata": {},
     "output_type": "display_data"
    }
   ],
   "source": [
    "n = X_processed.shape[0]\n",
    "p = X_processed.shape[1]\n",
    "tol = 1e-7\n",
    "\n",
    "betas_cd = np.zeros(p)\n",
    "betas_cd_old = np.ones(p)\n",
    "\n",
    "lossks = []\n",
    "true_losses = []\n",
    "\n",
    "# Loop over iterations\n",
    "for iteration in range(100):\n",
    "    betas_to_set = np.zeros(p)\n",
    "    lossk = (y_processed - X_processed @ betas_cd).T @ (y_processed - X_processed @ betas_cd)\n",
    "    true_loss = (y_processed - X_processed @ gamas[1:]).T @ (y_processed - X_processed @ gamas[1:])\n",
    "    lossks.append(lossk)\n",
    "    true_losses.append(true_loss)\n",
    "    \n",
    "    # initialize r\n",
    "    r = y_processed - X_processed.dot(betas_cd)\n",
    "    for j in range(p):\n",
    "        # update r and betas\n",
    "        r = r + X_processed[:, j] * betas_cd[j]\n",
    "        betas_to_set[j] = (r.T @ X_processed[:, j])/n\n",
    "        r = r - X_processed[:, j] * betas_cd[j]\n",
    "    \n",
    "    # tolerance check\n",
    "    if(np.linalg.norm((betas_cd - betas_to_set), ord=1) <= tol):\n",
    "        print(f'Converged at {iteration}')\n",
    "        break\n",
    "        \n",
    "    betas_cd = betas_to_set\n",
    "\n",
    "dict = {\n",
    "        'OLS' : betas,\n",
    "        'OLS Scaled' : gamas,\n",
    "        'OLS Recovered' : [beta0_recovered, beta1_recovered, beta2_recovered, beta3_recovered],\n",
    "        'Coordinate Descent': [0, betas_cd[0], betas_cd[1], betas_cd[2]]\n",
    "       }\n",
    "\n",
    "df = pd.DataFrame(dict)\n",
    "display(df.T)"
   ]
  },
  {
   "cell_type": "markdown",
   "id": "1b5e7285",
   "metadata": {},
   "source": [
    "- [5 pts] Make a plot to analyze the convergence of the coordinate descent. On the x-axis, we use the number of iteration. On the y-axis, use $\\log(\\text{Loss}_k - \\text{trueLoss})$. Here, $\\text{trueLoss}$ is the emperical loss based on the true optimizor, which we can simply use the solution from the `lm()` function (the scaled version). The $\\text{loss}_k$ is the loss function at the begining of the $k$-th iteration (Keep in mind that within each iteration, we will loop over all $\\beta_j$). If this plot displays a stragiht line, then we say that this algorithm has a linear convergence rate. Of course, this is at the log scale. "
   ]
  },
  {
   "cell_type": "code",
   "execution_count": 10,
   "id": "7324048a",
   "metadata": {},
   "outputs": [
    {
     "data": {
      "image/png": "[encoded data removed]",
      "text/plain": [
       "<Figure size 432x288 with 1 Axes>"
      ]
     },
     "metadata": {
      "needs_background": "light"
     },
     "output_type": "display_data"
    }
   ],
   "source": [
    "to_plot = np.log(np.array(lossks) - np.array(true_losses))\n",
    "plt.plot(to_plot)\n",
    "plt.title(\"Coordinate Descent Loss vs. OLS (scaled data) Loss\")\n",
    "plt.xlabel(\"iteration\")\n",
    "plt.ylabel(\"log(Loss_k - trueLoss)\")\n",
    "plt.show()"
   ]
  }
 ],
 "metadata": {
  "authors": [
   {
    "name": "Harris Nisar"
   }
  ],
  "celltoolbar": "Edit Metadata",
  "kernelspec": {
   "display_name": "Python 3 (ipykernel)",
   "language": "python",
   "name": "python3"
  },
  "language_info": {
   "codemirror_mode": {
    "name": "ipython",
    "version": 3
   },
   "file_extension": ".py",
   "mimetype": "text/x-python",
   "name": "python",
   "nbconvert_exporter": "python",
   "pygments_lexer": "ipython3",
   "version": "3.8.11"
  },
  "title": "Stat 542 HW4"
 },
 "nbformat": 4,
 "nbformat_minor": 5
}
