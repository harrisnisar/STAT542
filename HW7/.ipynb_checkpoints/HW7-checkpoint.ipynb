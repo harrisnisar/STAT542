{
 "cells": [
  {
   "cell_type": "code",
   "execution_count": 1,
   "id": "57167648",
   "metadata": {
    "tags": [
     "remove-cell"
    ]
   },
   "outputs": [],
   "source": [
    "# jupyter nbconvert HW7.ipynb --TagRemovePreprocessor.remove_cell_tags='{\"remove-cell\"}' --to pdf \n",
    "import numpy as np\n",
    "import matplotlib.pyplot as plt\n",
    "import pandas as pd\n",
    "import math\n",
    "from sklearn.metrics import confusion_matrix\n",
    "from sklearn.metrics import ConfusionMatrixDisplay\n",
    "import seaborn as sns\n",
    "\n",
    "%matplotlib inline\n",
    "%config InlineBackend.figure_format = 'png'\n",
    "\n",
    "from pylab import rcParams\n",
    "rcParams.update({\"axes.grid\" : True})\n",
    "rcParams['figure.figsize'] = (6,4)\n",
    "rcParams['lines.linewidth'] = 1\n",
    "rcParams['image.cmap'] = 'Greys'\n",
    "rcParams['axes.spines.right'] = False\n",
    "rcParams['axes.spines.top'] = False\n",
    "rcParams['font.weight'] = 400\n",
    "rcParams['font.size'] = 9\n",
    "rcParams['xtick.color'] = '#111111'\n",
    "rcParams['ytick.color'] = '#111111'\n",
    "rcParams['grid.color'] = '#dddddd'\n",
    "rcParams['grid.linestyle'] = '-'\n",
    "rcParams['grid.linewidth'] = 0.5\n",
    "rcParams['axes.titlesize'] = 12\n",
    "rcParams['axes.titleweight'] = 500\n",
    "rcParams['axes.labelsize'] = 10\n",
    "rcParams['axes.labelweight'] = 400\n",
    "rcParams['axes.linewidth'] = 0.5\n",
    "rcParams['axes.edgecolor'] = [.25,.25,.25]"
   ]
  },
  {
   "cell_type": "markdown",
   "id": "c38ba01c",
   "metadata": {},
   "source": [
    "# Question 1 [35 Points] Local Linear Regression\n",
    "\n",
    "We have implemented the Nadaraya-Watson kernel estimator in HW 6. In this question, we will investigate a local linear regression:\n",
    "$$\n",
    "\\widehat{f}\\left(x\\right)=\\widehat{\\beta}_{0}\\left(x\\right)+ \\widehat{\\beta}_{1}\\left(x\\right) x,\n",
    "$$\n",
    "where $x$ is a testing point. Local coefficients $\\widehat{\\beta}_{r}\\left(x \\right)$ for $r=0, 1$ are obtained by minimizing the object function\n",
    "$$\n",
    "\\underset{\\beta_{0}(x), \\, \\beta_{1}(x)}{\\operatorname{minimize}} \\quad \\sum_{i=1}^{n} K_{\\lambda} \\left(x, x_{i}\\right) \\Big[y_{i}-\\beta_{0}(x) - \\beta_1(x) x_{i} \\Big]^{2}.\n",
    "$$\n",
    "\n",
    "In this question, we will use the Gaussian kernel $K(u) = \\frac{1}{\\sqrt{2 \\pi}} e^{- \\frac{u^2}{2}}$.\n",
    "\n",
    "a) [20 pts] Write a function `myLocLinear(trainX, trainY, testX, lambda)`, where `lambda` is the bandwidth and `testX` is all testing samples. This function returns predictions on `testX`. The solution of $\\beta_{0}(x)$ and $\\beta_{1}(x)$ can be obtained by fitting a weighted linear regression. The formula is provided on Page 25 of our [lecture note](https://teazrq.github.io/stat542/notes/Kernel.pdf). "
   ]
  },
  {
   "cell_type": "code",
   "execution_count": 2,
   "id": "3335ea6e",
   "metadata": {},
   "outputs": [],
   "source": [
    "def wm(x, trainX, lam): \n",
    "    # m is the No of training examples .\n",
    "    m = trainX.shape[0] \n",
    "    \n",
    "    # Initialising W as an identity matrix.\n",
    "    w = np.mat(np.eye(m)) \n",
    "    \n",
    "    # Calculating weights for all training examples [x(i)'s].\n",
    "    for i in range(m): \n",
    "        xi = trainX[i] \n",
    "        d = (-2 * lam * lam) \n",
    "        w[i, i] = (1/math.sqrt(2*math.pi)) * np.exp(np.dot((xi-x), (xi-x).T)/d) \n",
    "        \n",
    "    return w\n",
    "\n",
    "def myLocLinear(trainX, trainY, testX, lam):\n",
    "    preds = []\n",
    "    for point in testX: \n",
    "        # m = number of training examples. \n",
    "        m = trainX.shape[0] \n",
    "\n",
    "        # Appending a cloumn of ones in X to add the bias term.\n",
    "        X_ = np.append(trainX, np.ones(m).reshape(m,1), axis=1) \n",
    "\n",
    "        # point is the x where we want to make the prediction. \n",
    "        point_ = np.append(point, np.ones(1).reshape(1,1))\n",
    "\n",
    "        # Calculating the weight matrix using the wm function we wrote      \n",
    "        w = wm(point_, X_, lam) \n",
    "        # Calculating parameter theta using the formula.\n",
    "        theta = np.linalg.pinv(X_.T @ w @ X_)@ X_.T @ w @ trainY\n",
    "        \n",
    "        # Calculating predictions.  \n",
    "        pred = np.dot(theta,point_.T) \n",
    "\n",
    "        preds.append(pred)\n",
    "    return np.array(preds)"
   ]
  },
  {
   "cell_type": "markdown",
   "id": "3b3fed56",
   "metadata": {},
   "source": [
    "b) [15 pts] Fit a local linear regression with our given training data. The testing data are generated using the code given below. Try a set of bandwidth  $\\lambda = 0.05, 0.1, \\ldots, 0.55, 0.6$ when calculating the kernel function. \n",
    "  - Provide a plot of testing MSE vs $\\lambda$. Does your plot show a \"U\" shape?\n",
    "  - Report the best testing MSE with the corresponding $\\lambda$.\n",
    "  - Plot three figures of your fitted testing data curve, with $\\lambda = 0.05, 0.25$, and $0.5$. Add the true function curve (see the following code for generating the truth, I modified this to simply save train, testX, and testY to .csv to import in python) and the training data points onto this plot. Label each $\\lambda$ and your curves. Comment on the the shape of fitted curves as your $\\lambda$ changes. \n",
    "\n",
    "```{r}\n",
    "  train = read.csv('/Users/harrisnisar/Downloads/hw7_Q1_train.csv')\n",
    "  testX = 2 * pi * seq(0, 1, by = 0.01)\n",
    "  testY = sin(testX)\n",
    "  write.csv(train,'/Users/harrisnisar/Documents/Stat 542/HW7/data/problem1_trainX.csv')\n",
    "  write.csv(testX,'/Users/harrisnisar/Documents/Stat 542/HW7/data/problem1_testX.csv')\n",
    "  write.csv(testY,'/Users/harrisnisar/Documents/Stat 542/HW7/data/problem1_testY.csv')\n",
    "```"
   ]
  },
  {
   "cell_type": "code",
   "execution_count": 3,
   "id": "431e3873",
   "metadata": {},
   "outputs": [],
   "source": [
    "train = np.array(pd.read_csv('./data/problem1_trainX.csv'))[:,1:]\n",
    "trainX = train[:,0].reshape(train.shape[0],-1)\n",
    "trainY = train[:,1]\n",
    "\n",
    "testX = np.array(pd.read_csv('./data/problem1_testX.csv'))[:,1:]\n",
    "testY = np.array(pd.read_csv('./data/problem1_testY.csv'))[:,1]"
   ]
  },
  {
   "cell_type": "code",
   "execution_count": 4,
   "id": "313d3852",
   "metadata": {},
   "outputs": [],
   "source": [
    "lams = np.arange(0.05,0.65,0.05)\n",
    "preds_for_lams = []\n",
    "for lam in lams:\n",
    "    preds = myLocLinear(trainX, trainY, testX, lam)\n",
    "    preds_for_lams.append(preds)\n",
    "    \n",
    "preds_for_lams = np.array(preds_for_lams).reshape(12,101)"
   ]
  },
  {
   "cell_type": "code",
   "execution_count": 5,
   "id": "84369daf",
   "metadata": {},
   "outputs": [
    {
     "data": {
      "image/png": "[encoded data removed]",
      "text/plain": [
       "<Figure size 432x288 with 1 Axes>"
      ]
     },
     "metadata": {
      "needs_background": "light"
     },
     "output_type": "display_data"
    },
    {
     "name": "stdout",
     "output_type": "stream",
     "text": [
      "Best lambda: 0.25 with MSE: 0.001575360068333387\n"
     ]
    },
    {
     "data": {
      "image/png": "[encoded data removed]",
      "text/plain": [
       "<Figure size 432x288 with 1 Axes>"
      ]
     },
     "metadata": {
      "needs_background": "light"
     },
     "output_type": "display_data"
    }
   ],
   "source": [
    "test_mses = []\n",
    "def mse(a,b):\n",
    "    return np.mean(np.power(a-b,2))\n",
    "\n",
    "for pred in preds_for_lams:\n",
    "    test_mses.append(mse(pred,testY))\n",
    "    \n",
    "plt.plot(lams,test_mses)\n",
    "plt.title('MSE vs. lambda')\n",
    "plt.xlabel('lambda')\n",
    "plt.ylabel('mse')\n",
    "plt.show()\n",
    "print(f'Best lambda: {lams[np.argmin(test_mses)]} with MSE: {test_mses[np.argmin(test_mses)]}')\n",
    "plt.scatter(trainX, trainY,s=0.5, label='training')\n",
    "plt.plot(testX, testY, label='actual testing')\n",
    "plt.plot(testX, preds_for_lams[0,:], label='lambda=0.05')\n",
    "plt.plot(testX, preds_for_lams[4,:], label='lambda=0.25')\n",
    "plt.plot(testX, preds_for_lams[9,:], label='lambda=0.5')\n",
    "plt.xlabel('x')\n",
    "plt.ylabel('y')\n",
    "plt.title('Comparison of Predictions Based on Bandwidth')\n",
    "plt.legend()\n",
    "plt.show()"
   ]
  },
  {
   "cell_type": "markdown",
   "id": "c474654b",
   "metadata": {},
   "source": [
    "# Question 2 [35 Points] Linear Discriminant Analysis\n",
    "\n",
    "For both question 2 and 3, you need to write your own code. We will use the handwritten digit recognition data from the `ElemStatLearn` package. We only consider the train-test split, with the pre-defined `zip.train` and `zip.test`. Simply use `zip.train` as the training data, and `zip.test` as the testing data for all evaluations and tuning. No cross-validation is needed in the training process.\n",
    "\n",
    "  - The data consists of 10 classes: digits 0 to 9 and 256 features ($16 \\times 16$ grayscale image). \n",
    "  - More information can be attained by code `help(zip.train)`.\n",
    "  \n",
    "a. [10 pts] Estimate the mean, covariance matrix of each class and pooled covariance matrix. Basic built-in R functions such as `cov` are allowed. Do NOT print your results. "
   ]
  },
  {
   "cell_type": "code",
   "execution_count": 6,
   "id": "9eff8b94",
   "metadata": {},
   "outputs": [],
   "source": [
    "# data loading\n",
    "train = np.array(pd.read_csv('./data/problem2_train.csv'))[:,1:]\n",
    "test = np.array(pd.read_csv('./data/problem2_test.csv'))[:,1:]\n",
    "\n",
    "train_x = train[:,1:]\n",
    "train_y = train[:,0]\n",
    "test_x = test[:,1:]\n",
    "test_y = test[:,0]\n",
    "\n",
    "possible_labels = [0.0,1.0,2.0,3.0,4.0,5.0,6.0,7.0,8.0,9.0]\n",
    "n = np.shape(train_x)[0]\n",
    "k = len(possible_labels)"
   ]
  },
  {
   "cell_type": "code",
   "execution_count": 7,
   "id": "9b60c662",
   "metadata": {},
   "outputs": [],
   "source": [
    "mean_list = []\n",
    "#pooled_cov = np.cov(train_x.T)\n",
    "pooled_cov = []\n",
    "class_cov_list = []\n",
    "class_prop_list = []\n",
    "nks = []\n",
    "for i in possible_labels:\n",
    "    nk = np.sum(train_y==i)\n",
    "    nks.append(nk)\n",
    "    train_x_subset = train_x[train_y == i,:]\n",
    "    mean_list.append(np.mean(train_x_subset,axis=0))\n",
    "    class_cov_list.append(np.cov(train_x_subset.T))\n",
    "    class_prop_list.append(train_x_subset.shape[0]/train_x.shape[0])\n",
    "    pooled_cov.append((np.cov(train_x_subset.T) * (nk-1)))\n",
    "mean_list = np.array(mean_list)\n",
    "class_cov_list = np.array(class_cov_list)\n",
    "class_prop_list = np.array(class_prop_list)\n",
    "pooled_cov = np.array(pooled_cov)\n",
    "# pooled_cov = np.mean(class_cov_list, axis=0)\n",
    "pooled_cov = np.sum(pooled_cov,axis=0) / (n-k)"
   ]
  },
  {
   "cell_type": "markdown",
   "id": "7e2a8dcd",
   "metadata": {},
   "source": [
    "b. [15 pts] Write your own linear discriminate analysis (LDA) code following our lecture note. To perform this, you should calculate $\\mu_k$, $\\pi_k$, and $\\Sigma$ from the data. You may consider saving $\\mu_k$'s and $\\pi_k$'s as a list (with 10 elements in each list). \n",
    "\n",
    "You are not required to write a single function to perform LDA, but you could consider defining a function as `myLDA(testX, mu_list, sigma_pool)`, where `mu_list` is the estimated mean vector for each class, and `sigma_pool` is the pooled variance estimation. This function should return the predicted class based on comparing __discriminant functions__  $\\delta_k(x) = w_k^T x + b_k$ given on page 32 of the [lecture note](https://teazrq.github.io/stat542/notes/Class.pdf)."
   ]
  },
  {
   "cell_type": "code",
   "execution_count": 8,
   "id": "41bb6e4f",
   "metadata": {},
   "outputs": [],
   "source": [
    "def myLDA(testX, mu_list, sigma_pool, class_probs):\n",
    "    sigma_pool_inv = np.linalg.inv(sigma_pool)\n",
    "    wks = []\n",
    "    bks = []\n",
    "    for i in range(len(class_probs)):\n",
    "        class_mean = mu_list[i,:]\n",
    "        class_prop = class_probs[i]\n",
    "        wk = sigma_pool_inv @ class_mean\n",
    "        bk = (-1/2) * class_mean.T @ sigma_pool_inv @ class_mean + np.log(class_prop)\n",
    "        wks.append(wk)\n",
    "        bks.append(bk)\n",
    "    wks = np.array(wks)\n",
    "    bks = np.array([np.array(bks)]).T\n",
    "    preds = wks@testX.T + bks\n",
    "    # print(preds.shape)\n",
    "    return (wks, bks, np.argmax(preds,axis=0))"
   ]
  },
  {
   "cell_type": "markdown",
   "id": "c567df6e",
   "metadata": {},
   "source": [
    "c. [10 pts] Fit LDA model on the training data and predict with the testing data. \n",
    "  - Report the first 5 entries of the $w$ coefficient vector and $b$ for digit `0`.\n",
    "  - Report a $10 \\times 10$ confusion matrix, where each **column** is true digit and each **row** is your predicted digit. You can use the `table()` function in R.\n",
    "  - Report a table of misclassification rate of each (true) digit. Hence, this is the $1 -$ sensitivity of each digit in a multi-class problem. Only keep the first three digits after the decimal point for the rate. Also report the overall mis-classification rate. "
   ]
  },
  {
   "cell_type": "code",
   "execution_count": 9,
   "id": "51504349",
   "metadata": {},
   "outputs": [
    {
     "name": "stdout",
     "output_type": "stream",
     "text": [
      "First 5 entries of w0: [-549.55302059   68.57504727  -39.11263175   -3.09565875   -9.65674984]\n",
      "b0: -1156.4428919058962\n"
     ]
    },
    {
     "data": {
      "text/html": [
       "<div>\n",
       "<style scoped>\n",
       "    .dataframe tbody tr th:only-of-type {\n",
       "        vertical-align: middle;\n",
       "    }\n",
       "\n",
       "    .dataframe tbody tr th {\n",
       "        vertical-align: top;\n",
       "    }\n",
       "\n",
       "    .dataframe thead th {\n",
       "        text-align: right;\n",
       "    }\n",
       "</style>\n",
       "<table border=\"1\" class=\"dataframe\">\n",
       "  <thead>\n",
       "    <tr style=\"text-align: right;\">\n",
       "      <th></th>\n",
       "      <th>0</th>\n",
       "      <th>1</th>\n",
       "      <th>2</th>\n",
       "      <th>3</th>\n",
       "      <th>4</th>\n",
       "      <th>5</th>\n",
       "      <th>6</th>\n",
       "      <th>7</th>\n",
       "      <th>8</th>\n",
       "      <th>9</th>\n",
       "    </tr>\n",
       "  </thead>\n",
       "  <tbody>\n",
       "    <tr>\n",
       "      <th>Misclassification Rate</th>\n",
       "      <td>0.047</td>\n",
       "      <td>0.049</td>\n",
       "      <td>0.207</td>\n",
       "      <td>0.145</td>\n",
       "      <td>0.130</td>\n",
       "      <td>0.219</td>\n",
       "      <td>0.076</td>\n",
       "      <td>0.122</td>\n",
       "      <td>0.187</td>\n",
       "      <td>0.068</td>\n",
       "    </tr>\n",
       "  </tbody>\n",
       "</table>\n",
       "</div>"
      ],
      "text/plain": [
       "                            0      1      2      3      4      5      6  \\\n",
       "Misclassification Rate  0.047  0.049  0.207  0.145  0.130  0.219  0.076   \n",
       "\n",
       "                            7      8      9  \n",
       "Misclassification Rate  0.122  0.187  0.068  "
      ]
     },
     "metadata": {},
     "output_type": "display_data"
    },
    {
     "name": "stdout",
     "output_type": "stream",
     "text": [
      "Overall Misclassification Rate: 0.115\n"
     ]
    },
    {
     "data": {
      "image/png": "[encoded data removed]",
      "text/plain": [
       "<Figure size 432x288 with 2 Axes>"
      ]
     },
     "metadata": {
      "needs_background": "light"
     },
     "output_type": "display_data"
    }
   ],
   "source": [
    "wks, bks, preds = myLDA(test_x, mean_list, pooled_cov, class_prop_list)\n",
    "print(f'First 5 entries of w0: {wks[0,:5]}')\n",
    "print(f'b0: {bks[0,:5][0]}')\n",
    "accuracy = np.sum(preds == test_y)/test_y.shape[0]\n",
    "cm = confusion_matrix(test_y, preds)\n",
    "f = sns.heatmap(cm, annot=True, fmt='d')\n",
    "f.set_title('Confusion Matrix')\n",
    "\n",
    "# to-do: MISCLASSIFICATION RATE PER DIGIT\n",
    "TP = np.diag(cm)\n",
    "FN = cm.sum(axis=1) - np.diag(cm)\n",
    "sensitivity = (TP / (TP + FN))\n",
    "misclassification_rate = 1 - sensitivity\n",
    "misclassification_rate_formatted = [format(mcr, \".3f\") for mcr in misclassification_rate]\n",
    "\n",
    "dict = {\n",
    "        'Misclassification Rate' : misclassification_rate_formatted,\n",
    "       }\n",
    "\n",
    "df = pd.DataFrame(dict)\n",
    "\n",
    "display(df.T)\n",
    "print(f'Overall Misclassification Rate: {(1-accuracy):0.3f}')"
   ]
  },
  {
   "cell_type": "markdown",
   "id": "bdbf0f6e",
   "metadata": {},
   "source": [
    "# Question 3 [30 points] Regularized quadratic discriminate analysis\n",
    "\n",
    "QDA uses a quadratic discriminant function. However, QDA does not work directly in this example because we do not have enough samples to provide an invertible sample covariance matrix for each digit. An alternative idea to fix this issue is to consider a regularized QDA method, which uses \n",
    "\n",
    "$$\\widehat \\Sigma_k(\\alpha) = \\alpha \\widehat \\Sigma_k + (1-\\alpha) \\widehat \\Sigma $$\n",
    "\n",
    "instead of $\\Sigma_k$. Then, they are used in the decision rules given in page 36 of lecture notes. Complete the following questions\n",
    "\n",
    "a. [20 pts] Write your own function `myRQDA(testX, mu_list, sigma_list, sigma_pool, alpha)`, where `allpha` is a scaler `alpha` and `testX` is your testing covariate matrix. And you may need a new `sigma_list` for all the $\\Sigma_k$. This function should return a vector of predicted digits."
   ]
  },
  {
   "cell_type": "code",
   "execution_count": 10,
   "id": "7b3262ea",
   "metadata": {},
   "outputs": [],
   "source": [
    "def myRQDA(testX, mu_list, sigma_list, sigma_pool, alpha, class_probs):\n",
    "    sigma_pool_inv = np.linalg.inv(sigma_pool)\n",
    "    Wks = []\n",
    "    wks = []\n",
    "    bks = []\n",
    "    for i in range(len(class_probs)):\n",
    "        class_mean = mu_list[i,:]\n",
    "        class_cov = sigma_list[i,:,:]\n",
    "        class_cov_reg = alpha * class_cov + (1-alpha) * sigma_pool\n",
    "        class_cov_reg_inv = np.linalg.inv(class_cov_reg)\n",
    "        class_prop = class_probs[i]\n",
    "        Wk = (-1/2)*class_cov_reg_inv\n",
    "        wk = class_cov_reg_inv @ class_mean\n",
    "        bk = (-1/2) * class_mean.T @ class_cov_reg_inv @ class_mean - (1/2)*(np.linalg.det(class_cov_reg))+ np.log(class_prop)\n",
    "        Wks.append(Wk)\n",
    "        wks.append(wk)\n",
    "        bks.append(bk)\n",
    "    Wks = np.array(Wks)\n",
    "    wks = np.array(wks)\n",
    "    bks = np.array(bks)\n",
    "    preds = []\n",
    "    for x in testX:\n",
    "        pred = []\n",
    "        x = x.reshape(-1,1)\n",
    "        for k in range(len(class_probs)):\n",
    "            Wk = Wks[k,:,:]\n",
    "            wk = wks[k,:]\n",
    "            bk = bks[k]\n",
    "            p = x.T @ Wk @ x + wk.T @ x + bk\n",
    "            pred.append(p[0][0])\n",
    "        preds.append(np.array(pred))\n",
    "    preds = np.array(preds).T\n",
    "    return (wks, bks, np.argmax(preds,axis=0))"
   ]
  },
  {
   "cell_type": "markdown",
   "id": "0e3dc712",
   "metadata": {},
   "source": [
    "b. [10 pts] Perform regularized QDA with the following sequence of $\\alpha$ values. Plot the testing error (misclassification rate) against alpha. Report the minimum testing error and the corresponding $\\alpha$."
   ]
  },
  {
   "cell_type": "code",
   "execution_count": 11,
   "id": "edda5f9a",
   "metadata": {},
   "outputs": [
    {
     "data": {
      "image/png": "[encoded data removed]",
      "text/plain": [
       "<Figure size 432x288 with 1 Axes>"
      ]
     },
     "metadata": {
      "needs_background": "light"
     },
     "output_type": "display_data"
    },
    {
     "name": "stdout",
     "output_type": "stream",
     "text": [
      "Minimum Misclassification Rate was 0.0952 with alpha=0.1\n"
     ]
    }
   ],
   "source": [
    "alphas = np.arange(0,.35,0.05)\n",
    "alphas\n",
    "mc_rates = []\n",
    "for alpha in alphas:\n",
    "    wks, bks, preds = myRQDA(test_x, mean_list, class_cov_list, pooled_cov, alpha, class_prop_list)\n",
    "    cm = confusion_matrix(test_y, preds)\n",
    "    accuracy = np.sum(preds == test_y)/test_y.shape[0]\n",
    "    mc_rates.append(1-accuracy)\n",
    "plt.plot(alphas,mc_rates)\n",
    "plt.title(\"Misclassification Rate vs. alpha\")\n",
    "plt.ylabel(\"Misclassfication Rate\")\n",
    "plt.xlabel(\"Alpha\")\n",
    "plt.show()\n",
    "print(f'Minimum Misclassification Rate was {mc_rates[np.argmin(mc_rates)]:0.4f} with alpha={alphas[np.argmin(mc_rates)]}')"
   ]
  }
 ],
 "metadata": {
  "authors": [
   {
    "name": "Harris Nisar (nisar2)"
   }
  ],
  "celltoolbar": "Edit Metadata",
  "kernelspec": {
   "display_name": "Python 3 (ipykernel)",
   "language": "python",
   "name": "python3"
  },
  "language_info": {
   "codemirror_mode": {
    "name": "ipython",
    "version": 3
   },
   "file_extension": ".py",
   "mimetype": "text/x-python",
   "name": "python",
   "nbconvert_exporter": "python",
   "pygments_lexer": "ipython3",
   "version": "3.8.11"
  },
  "title": "Stat 542 HW6"
 },
 "nbformat": 4,
 "nbformat_minor": 5
}
