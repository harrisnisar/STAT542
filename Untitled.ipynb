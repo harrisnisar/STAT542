{
 "cells": [
  {
   "cell_type": "markdown",
   "id": "aaf934a9",
   "metadata": {},
   "source": [
    "$$\n",
    "E[||y^{*}-X\\beta||^{2}] = E[||e^{*}||^{2}] = E[\\sum_{i=1}^{n}(e^{*} e^{*})]\n",
    "$$"
   ]
  },
  {
   "cell_type": "markdown",
   "id": "ff449383",
   "metadata": {},
   "source": [
    "$$\n",
    "E[\\sum_{i=1}^{n}(e^{*} e^{*})] = n\\sigma^{2}\n",
    "$$"
   ]
  },
  {
   "cell_type": "code",
   "execution_count": null,
   "id": "85eccc40",
   "metadata": {},
   "outputs": [],
   "source": []
  }
 ],
 "metadata": {
  "kernelspec": {
   "display_name": "Python 3 (ipykernel)",
   "language": "python",
   "name": "python3"
  },
  "language_info": {
   "codemirror_mode": {
    "name": "ipython",
    "version": 3
   },
   "file_extension": ".py",
   "mimetype": "text/x-python",
   "name": "python",
   "nbconvert_exporter": "python",
   "pygments_lexer": "ipython3",
   "version": "3.8.11"
  }
 },
 "nbformat": 4,
 "nbformat_minor": 5
}
