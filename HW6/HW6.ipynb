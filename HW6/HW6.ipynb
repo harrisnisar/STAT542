{
 "cells": [
  {
   "cell_type": "code",
   "execution_count": 1,
   "id": "31b0585f",
   "metadata": {
    "tags": [
     "remove-cell"
    ]
   },
   "outputs": [],
   "source": [
    "# jupyter nbconvert HW6.ipynb --TagRemovePreprocessor.remove_cell_tags='{\"remove-cell\"}' --to pdf \n",
    "import numpy as np\n",
    "import matplotlib.pyplot as plt\n",
    "import pandas as pd\n",
    "import statsmodels.api as sm\n",
    "from sklearn.preprocessing import PolynomialFeatures\n",
    "from sklearn.metrics import mean_squared_error\n",
    "from scipy.interpolate import BSpline\n",
    "from scipy.interpolate import UnivariateSpline\n",
    "from sklearn.model_selection import cross_val_score\n",
    "from sklearn.model_selection import KFold\n",
    "import csaps\n",
    "import math\n",
    "from scipy.interpolate import splev, splrep\n",
    "\n",
    "%matplotlib inline\n",
    "%config InlineBackend.figure_format = 'png'\n",
    "\n",
    "from pylab import rcParams\n",
    "rcParams.update({\"axes.grid\" : True})\n",
    "rcParams['figure.figsize'] = (6,4)\n",
    "rcParams['lines.linewidth'] = 1\n",
    "rcParams['image.cmap'] = 'Greys'\n",
    "rcParams['axes.spines.right'] = False\n",
    "rcParams['axes.spines.top'] = False\n",
    "rcParams['font.weight'] = 400\n",
    "rcParams['font.size'] = 9\n",
    "rcParams['xtick.color'] = '#111111'\n",
    "rcParams['ytick.color'] = '#111111'\n",
    "rcParams['grid.color'] = '#dddddd'\n",
    "rcParams['grid.linestyle'] = '-'\n",
    "rcParams['grid.linewidth'] = 0.5\n",
    "rcParams['axes.titlesize'] = 12\n",
    "rcParams['axes.titleweight'] = 500\n",
    "rcParams['axes.labelsize'] = 10\n",
    "rcParams['axes.labelweight'] = 400\n",
    "rcParams['axes.linewidth'] = 0.5\n",
    "rcParams['axes.edgecolor'] = [.25,.25,.25]"
   ]
  },
  {
   "cell_type": "markdown",
   "id": "0dee09b0",
   "metadata": {},
   "source": [
    "# About HW6\n",
    "\n",
    "- Understand how the spline basis is constructed. We will use the `Ozone` data from the `mlbench` package.\n",
    "- Kernel regression involves two decisions: choosing the kernel and tuning the bandwidth. Usually, tuning the bandwidth is more influential than choosing the kernel function. Tuning the bandwidth is similar to tuning $k$ in a KNN model. However, this is more difficult in multi-dimensional models. We practice one and two-dimensional kernels that involves these elements.\n",
    "\n",
    "# Question 1 [40 Points] Write Your Own Spline Basis (Univariate Spline Fit)\n",
    "\n",
    "We will fit and compare different spline models to the `Ozone` dataset form the `mlbench` package. We have pre-processed this dataset. Please use our provided train/test csv files. This dataset has three variables: `time`, `ozone` and `wind`. For the spline question, we will only use `time` as the covariate and `ozone` as the outcome. \n",
    "\n",
    "```{r fig.width = 12}\n",
    "  train = read.csv(\"..//data//ozoneTrain.csv\")\n",
    "  test  = read.csv(\"..//data//ozoneTest.csv\")\n",
    "  par(mfrow=c(1,2))\n",
    "\n",
    "  plot(train$time, train$ozone, pch = 19, cex = 0.5)\n",
    "  plot(train$wind + runif(nrow(train), -0.15, 0.15), \n",
    "       train$ozone, pch = 19, cex = 0.5)\n",
    "```"
   ]
  },
  {
   "cell_type": "code",
   "execution_count": 2,
   "id": "fd8b19c9",
   "metadata": {},
   "outputs": [
    {
     "data": {
      "image/png": "[encoded data removed]",
      "text/plain": [
       "<Figure size 864x216 with 2 Axes>"
      ]
     },
     "metadata": {
      "needs_background": "light"
     },
     "output_type": "display_data"
    }
   ],
   "source": [
    "# TO-DO: Data Loading\n",
    "train = pd.read_csv('./data/ozoneTrain.csv').sort_values(by=['time'], ascending=True)\n",
    "test = pd.read_csv('./data/ozoneTest.csv').sort_values(by=['time'], ascending=True)\n",
    "\n",
    "plt.figure(figsize=(12, 3))\n",
    "plt.subplot(121)\n",
    "plt.scatter(train['time'], train['ozone'], s=2)\n",
    "plt.title('Train')\n",
    "plt.xlabel('time')\n",
    "plt.ylabel('ozone')\n",
    "\n",
    "plt.subplot(122)\n",
    "plt.scatter(test['time'], test['ozone'], s=2)\n",
    "plt.title('Test')\n",
    "plt.xlabel('time')\n",
    "plt.ylabel('ozone')\n",
    "\n",
    "plt.show()"
   ]
  },
  {
   "cell_type": "markdown",
   "id": "ef76a445",
   "metadata": {},
   "source": [
    "Let's consider several different spline constructions to model the `ozone` level using `time`. Please read the requirements carefully since some of them require you to write your own code.\n",
    "  - To test your model, use the train/test split provided above. \n",
    "  - Use the mean squared error as the metric for evaluation and report the MSE for each method in a single summary table. \n",
    "  - For the spline basis that you write with your own code, make sure to include the intercept term. \n",
    "  - For question a) and b) and d), provide the following summary information at the end of your answer:\n",
    "    - A table of MSE on testing data. Please label each method clearly.\n",
    "    - Three figures (you could consider making them side-by-side for a better comparison) at the end. Each figure consists of scatter plots of both training and testing data points and the fitted curve on the range `x = seq(0, 1, by = 0.01)`.\n",
    "\n",
    "a) [10 pts] Write your own code (you cannot use `bs()` or similar functions) to implement a continuous piece-wise linear fitting. Pick 4 knots at $(0.2, 0.4, 0.6, 0.8)$. "
   ]
  },
  {
   "cell_type": "code",
   "execution_count": 3,
   "id": "0c3d2017",
   "metadata": {},
   "outputs": [],
   "source": [
    "def mse(a,b):\n",
    "    return np.mean(np.power(a-b,2))\n",
    "plt_range = np.linspace(0,1,100)"
   ]
  },
  {
   "cell_type": "code",
   "execution_count": 4,
   "id": "4b54056f",
   "metadata": {},
   "outputs": [
    {
     "name": "stdout",
     "output_type": "stream",
     "text": [
      "train mse: 42.439443898254396\n",
      "test mse: 29.60324824827275\n"
     ]
    }
   ],
   "source": [
    "knots = [0.2, 0.4, 0.6, 0.8]\n",
    "\n",
    "def pos(x):\n",
    "    return x*(x>0)\n",
    "\n",
    "pw_linear_train_basis = np.array([\n",
    "    np.ones(len(train['time'])),\n",
    "    train['time'],\n",
    "    pos(train['time']-knots[0]),\n",
    "    pos(train['time']-knots[1]),\n",
    "    pos(train['time']-knots[2])\n",
    "]).T\n",
    "\n",
    "pw_linear_test_basis = np.array([\n",
    "    np.ones(len(test['time'])),\n",
    "    test['time'],\n",
    "    pos(test['time']-knots[0]),\n",
    "    pos(test['time']-knots[1]),\n",
    "    pos(test['time']-knots[2])\n",
    "]).T\n",
    "\n",
    "pw_linear = sm.OLS(train['ozone'],pw_linear_train_basis).fit()\n",
    "\n",
    "pw_linear_train_preds = pw_linear_train_basis @ pw_linear.params\n",
    "pw_linear_test_preds = pw_linear_test_basis @ pw_linear.params\n",
    "\n",
    "pw_linear_train_mse = mse(pw_linear_train_preds, train['ozone'])\n",
    "pw_linear_test_mse = mse(pw_linear_test_preds, test['ozone'])\n",
    "\n",
    "print('train mse:', pw_linear_train_mse)\n",
    "print('test mse:', pw_linear_test_mse)"
   ]
  },
  {
   "cell_type": "markdown",
   "id": "11ed72ed",
   "metadata": {},
   "source": [
    "b) [10 pts] Write your own code to implement a quadratic spline fitting. Your spline should be continuous up to the first derivative. Pick 4 knots as $(0.2, 0.4, 0.6, 0.8)$."
   ]
  },
  {
   "cell_type": "code",
   "execution_count": 5,
   "id": "651d1d4f",
   "metadata": {},
   "outputs": [
    {
     "name": "stdout",
     "output_type": "stream",
     "text": [
      "train mse: 41.84940337816938\n",
      "test mse: 30.097512396513963\n"
     ]
    }
   ],
   "source": [
    "knots = [0.2, 0.4, 0.6, 0.8]\n",
    "\n",
    "pw_quadratic_train_basis = np.array([\n",
    "    np.ones(len(train['time'])),\n",
    "    train['time'],\n",
    "    np.power(train['time'],2),\n",
    "    np.power(pos(train['time']-knots[0]),2),\n",
    "    np.power(pos(train['time']-knots[1]),2),\n",
    "    np.power(pos(train['time']-knots[2]),2),\n",
    "    np.power(pos(train['time']-knots[3]),2),\n",
    "]).T\n",
    "\n",
    "pw_quadratic_test_basis = np.array([\n",
    "    np.ones(len(test['time'])),\n",
    "    test['time'],\n",
    "    np.power(test['time'],2),\n",
    "    np.power(pos(test['time']-knots[0]),2),\n",
    "    np.power(pos(test['time']-knots[1]),2),\n",
    "    np.power(pos(test['time']-knots[2]),2),\n",
    "    np.power(pos(test['time']-knots[3]),2),\n",
    "]).T\n",
    "\n",
    "pw_quadratic = sm.OLS(train['ozone'],pw_quadratic_train_basis).fit()\n",
    "\n",
    "pw_quadratic_train_preds = pw_quadratic_train_basis @ pw_quadratic.params\n",
    "pw_quadratic_test_preds = pw_quadratic_test_basis @ pw_quadratic.params\n",
    "\n",
    "pw_quadratic_train_mse = mse(pw_quadratic_train_preds, train['ozone'])\n",
    "pw_quadratic_test_mse = mse(pw_quadratic_test_preds, test['ozone'])\n",
    "\n",
    "print('train mse:', pw_quadratic_train_mse)\n",
    "print('test mse:', pw_quadratic_test_mse)"
   ]
  },
  {
   "cell_type": "markdown",
   "id": "143c03a6",
   "metadata": {},
   "source": [
    "c) [10 pts] Produce a set of B-spline basis with the same knots and degrees as (ii) using the `bs()` function. Note that they do not have to be exactly the same as yours. Compare the design matrix from b) and c) as follows:\n",
    "\n",
    "- Check the the difference between their projection matrices (the hat-matrices of the corresponding linear regression) on the training data to verify that the column spaces are the same. The difference is measured by $\\text{max}_{i, j} |H_{i, j}^{(1)} - H_{i, j}^{(2)}|$, where $H^{(1)}$ and $H^{(2)}$ are corresponding to the two hat-matrices.\n",
    "- Compare the conditional number $\\frac{\\sigma_\\text{max}}{\\sigma_\\text{min}}$ of each deign matrix, where $\\sigma_\\text{max}$ and $\\sigma_\\text{min}$ denote the largest and smallest singular values, respectively.\n",
    "- [bonus 2 pts] Why B-spline has a smaller condition number even though two design matrices have the same column space. Some basic information of the conditional number (for linear regression) can be found [here](https://en.wikipedia.org/wiki/Condition_number).\n",
    "\n",
    "I generated and saved the basis from R using the following:\n",
    "```{r fig.width = 12}\n",
    "    knots <- c(0.2,0.4,0.6,0.8)\n",
    "    my_bs = splines::bs ( train.time, knots = knots, degree = 2 , intercept= TRUE)\n",
    "    write.csv(my_bs,\"/Users/harrisnisar/Documents/Stat 542/HW6/data/bs_basis_from_r.csv\", row.names = FALSE)\n",
    "```"
   ]
  },
  {
   "cell_type": "code",
   "execution_count": 6,
   "id": "b81d1b9f",
   "metadata": {},
   "outputs": [
    {
     "name": "stdout",
     "output_type": "stream",
     "text": [
      "Difference between projection matricies: 6.386835504912369e-13\n",
      "Conditional Number, My Quadratic Basis: 920.799191331099\n",
      "Conditional Number, Quadratic Basis from Rs bs Function: 3.714948430352339\n"
     ]
    }
   ],
   "source": [
    "bs_basis_r = np.array(pd.read_csv('./data/bs_basis_from_r.csv')) # loading in basis from R\n",
    "\n",
    "H_bs_r = bs_basis_r @ np.linalg.inv(bs_basis_r.T @ bs_basis_r) @ bs_basis_r.T\n",
    "H_my_pw_quad = pw_quadratic_train_basis @ np.linalg.inv(pw_quadratic_train_basis.T @ pw_quadratic_train_basis) @ pw_quadratic_train_basis.T\n",
    "\n",
    "print('Difference between projection matricies:',np.max(np.abs(H_bs_r-H_my_pw_quad)))\n",
    "\n",
    "u1, s1, vh1 = np.linalg.svd(pw_quadratic_train_basis)\n",
    "print('Conditional Number, My Quadratic Basis:', np.max(s1)/np.min(s1))\n",
    "\n",
    "u2, s2, vh2 = np.linalg.svd(bs_basis_r)\n",
    "print('Conditional Number, Quadratic Basis from Rs bs Function:', np.max(s2)/np.min(s2))\n"
   ]
  },
  {
   "cell_type": "markdown",
   "id": "455370f9",
   "metadata": {},
   "source": [
    "Bonus Question: The condition number is larger for matrices that have correlated variables. Our method generates a design matrix with columns that are highly correlated, the conditional number would be higher.\n",
    "\n",
    "d) [10 pts] Use existing functions to implement a smoothing spline. Use the built-in generalized cross-validation method to select the best tuning parameter.\n",
    "\n",
    "I used KFold cross validation as presented here: https://scikit-learn.org/stable/modules/generated/sklearn.model_selection.KFold.html\n",
    "\n",
    "I used csaps, a Python package for univariate, multivariate and n-dimensional grid data approximation using cubic smoothing splines: https://github.com/espdev/csaps"
   ]
  },
  {
   "cell_type": "code",
   "execution_count": 7,
   "id": "e53c5a60",
   "metadata": {},
   "outputs": [
    {
     "name": "stdout",
     "output_type": "stream",
     "text": [
      "best smooth value: 0.9\n",
      "Test MSE, smoothing spline 30.208060798514975\n"
     ]
    }
   ],
   "source": [
    "smooth_values = np.linspace(0,1,11)\n",
    "\n",
    "kf = KFold(n_splits=10, shuffle=False)\n",
    "validation_results = {}\n",
    "for smooth_value in smooth_values:\n",
    "    val_mses = []\n",
    "    for train_index, test_index in kf.split(train):\n",
    "        X_train, X_test = np.array(train['time'])[train_index], np.array(train['time'])[test_index]\n",
    "        y_train, y_test = np.array(train['ozone'])[train_index], np.array(train['ozone'])[test_index]\n",
    "        sp = csaps.CubicSmoothingSpline(X_train, y_train, smooth=smooth_value)\n",
    "        val_preds = sp(X_test)\n",
    "        val_mse = mse(val_preds, y_test)\n",
    "        val_mses.append(val_mse)\n",
    "    mean_val_mse = np.mean(val_mses)\n",
    "    validation_results[smooth_value] = mean_val_mse\n",
    "\n",
    "best_smooth_value = smooth_values[np.array(list(validation_results.values()))[:-1].argmin()]\n",
    "print('best smooth value:', best_smooth_value)\n",
    "sp_best = csaps.CubicSmoothingSpline(train['time'], train['ozone'], smooth=best_smooth_value)\n",
    "sp_best_test_mse = mse(sp_best(test['time']), test['ozone'])\n",
    "print('Test MSE, smoothing spline',sp_best_test_mse)"
   ]
  },
  {
   "cell_type": "code",
   "execution_count": 8,
   "id": "1b54a54a",
   "metadata": {},
   "outputs": [
    {
     "data": {
      "image/png": "[encoded data removed]",
      "text/plain": [
       "<Figure size 864x216 with 3 Axes>"
      ]
     },
     "metadata": {
      "needs_background": "light"
     },
     "output_type": "display_data"
    },
    {
     "data": {
      "text/html": [
       "<div>\n",
       "<style scoped>\n",
       "    .dataframe tbody tr th:only-of-type {\n",
       "        vertical-align: middle;\n",
       "    }\n",
       "\n",
       "    .dataframe tbody tr th {\n",
       "        vertical-align: top;\n",
       "    }\n",
       "\n",
       "    .dataframe thead th {\n",
       "        text-align: right;\n",
       "    }\n",
       "</style>\n",
       "<table border=\"1\" class=\"dataframe\">\n",
       "  <thead>\n",
       "    <tr style=\"text-align: right;\">\n",
       "      <th></th>\n",
       "      <th>Testing MSE</th>\n",
       "    </tr>\n",
       "  </thead>\n",
       "  <tbody>\n",
       "    <tr>\n",
       "      <th>Piecewise Linear Continuous</th>\n",
       "      <td>29.603248</td>\n",
       "    </tr>\n",
       "    <tr>\n",
       "      <th>Piecewise Quadratic Continuous</th>\n",
       "      <td>30.097512</td>\n",
       "    </tr>\n",
       "    <tr>\n",
       "      <th>Smoothing Spline</th>\n",
       "      <td>30.208061</td>\n",
       "    </tr>\n",
       "  </tbody>\n",
       "</table>\n",
       "</div>"
      ],
      "text/plain": [
       "                                Testing MSE\n",
       "Piecewise Linear Continuous       29.603248\n",
       "Piecewise Quadratic Continuous    30.097512\n",
       "Smoothing Spline                  30.208061"
      ]
     },
     "metadata": {},
     "output_type": "display_data"
    }
   ],
   "source": [
    "fig = plt.figure(figsize=(12, 3))\n",
    "\n",
    "plt.subplot(131)\n",
    "plt.plot(train['time'],pw_linear_train_preds, 'g-',label='fit')\n",
    "plt.scatter(train['time'], train['ozone'], s=2, label='train')\n",
    "plt.scatter(test['time'], test['ozone'], s=2, label='test')\n",
    "plt.title('Piecewise Linear Continuous')\n",
    "plt.xlabel('time')\n",
    "plt.ylabel('ozone')\n",
    "\n",
    "plt.subplot(132)\n",
    "plt.plot(train['time'],pw_quadratic_train_preds, 'g-')\n",
    "plt.scatter(train['time'], train['ozone'], s=2)\n",
    "plt.scatter(test['time'], test['ozone'], s=2)\n",
    "plt.title('Piecewise Quadratic Continuous')\n",
    "plt.xlabel('time')\n",
    "plt.ylabel('ozone')\n",
    "\n",
    "plt.subplot(133)\n",
    "plt.plot(train['time'],sp_best(train['time']), 'g-')\n",
    "plt.scatter(train['time'], train['ozone'], s=2)\n",
    "plt.scatter(test['time'], test['ozone'], s=2)\n",
    "plt.title('Smoothing Spline')\n",
    "plt.xlabel('time')\n",
    "plt.ylabel('ozone')\n",
    "\n",
    "fig.legend()\n",
    "plt.show()\n",
    "dict = {\n",
    "        'Piecewise Linear Continuous' : [pw_linear_test_mse],\n",
    "        'Piecewise Quadratic Continuous' : [pw_quadratic_test_mse],\n",
    "        'Smoothing Spline' : [sp_best_test_mse],\n",
    "       }\n",
    "\n",
    "df = pd.DataFrame(dict)\n",
    "df = df.rename(index={0: 'Testing MSE'})\n",
    "display(df.T)"
   ]
  },
  {
   "cell_type": "markdown",
   "id": "cf732ffc",
   "metadata": {},
   "source": [
    "# Question 2 [60 Points] Kernel Regression \n",
    "\n",
    "We will use the same ozone data. For Question a), we only use `time` as the covariate, while in Question b, we use both `time` and `wind`. \n",
    "\n",
    "## a) [30 pts] One-dimensional kernel regression.\n",
    "\n",
    "You are required to implement (write your own code) two kernel regression models, using the following two kernels function, respectively: \n",
    "- Gaussian kernel, defined as $K(u) = \\frac{1}{\\sqrt{2 \\pi}} e^{- \\frac{u^2}{2}}$\n",
    "- Epanechnikov kernel, defined as $K(u) = \\frac{3}{4}(1-u^2)$ for $|u| \\leq 1$. \n",
    "\n",
    "For both kernel functions, incorporate a bandwidth $\\lambda$. You should start with the Silverman's rule-of-thumb for the choice of $\\lambda$, and then tune $\\lambda$ (for example, increase or decrease by 10%, 20%, 30% etc.). Then, perform the following:\n",
    "- (I) [20 pts] Using just the Silverman's rule-of-thumb, fit and plot the regression line with both kernel functions, in a single figure. Add the training/testing points, just like Question 1. Report the testing MSE of both methods in a table.\n",
    "- (II) [10 pts] For the Epanechnikov kernel, tune the $\\lambda$ value by minimizing the testing error. Use a grid of 10 different $\\lambda$ values at your choice. What is the best $\\lambda$ value that minimizes the testing error? Plot your optimal regression line and report the best $\\lambda$ and the testing error.\n"
   ]
  },
  {
   "cell_type": "code",
   "execution_count": 9,
   "id": "4859e5bd",
   "metadata": {},
   "outputs": [],
   "source": [
    "class GKR:\n",
    "    def __init__(self, x, y, b):\n",
    "        self.x = x\n",
    "        self.y = y\n",
    "        self.b = b\n",
    "    \n",
    "    '''Implement the Gaussian Kernel'''\n",
    "    def gaussian_kernel(self, z):\n",
    "        return (1/math.sqrt(2*math.pi))*math.exp(-0.5*z**2)\n",
    "    \n",
    "    '''Calculate weights and return prediction'''\n",
    "    def predict(self, X):\n",
    "        kernels = [self.gaussian_kernel((xi-X)/self.b) for xi in self.x]\n",
    "        weights = [len(self.x) * (kernel/np.sum(kernels)) for kernel in kernels]\n",
    "        return np.dot(weights, self.y)/len(self.x)\n",
    "    \n",
    "class EKR:\n",
    "    def __init__(self, x, y, b):\n",
    "        self.x = x\n",
    "        self.y = y\n",
    "        self.b = b\n",
    "    \n",
    "    '''Implement the Epanechikov Kernel'''\n",
    "    def epanechnikov_kernel(self, z):\n",
    "        if np.abs(z) <= 1:\n",
    "            return (0.75*(1-np.power(z,2)))\n",
    "        else:\n",
    "            return 0\n",
    "    \n",
    "    '''Calculate weights and return prediction'''\n",
    "    def predict(self, X):\n",
    "        kernels = [self.epanechnikov_kernel((xi-X)/self.b) for xi in self.x]\n",
    "        weights = [len(self.x) * (float(kernel)/np.sum(kernels)) for kernel in kernels]\n",
    "        return np.dot(weights, self.y)/len(self.x)\n",
    "    \n",
    "def silverman(x):\n",
    "    x = np.array(x)\n",
    "    n = len(x)\n",
    "    return 1.06 * x.std() * (n**(-1/5))"
   ]
  },
  {
   "cell_type": "code",
   "execution_count": 10,
   "id": "2e00f6c0",
   "metadata": {
    "scrolled": true
   },
   "outputs": [
    {
     "data": {
      "image/png": "[encoded data removed]",
      "text/plain": [
       "<Figure size 432x288 with 1 Axes>"
      ]
     },
     "metadata": {
      "needs_background": "light"
     },
     "output_type": "display_data"
    }
   ],
   "source": [
    "# silverman lambda\n",
    "lamb = silverman(train['time'])\n",
    "\n",
    "# fit GKR on training, predict on testing\n",
    "gkr = GKR(np.array(train['time']), np.array(train['ozone']), lamb)\n",
    "preds_gkr = [gkr.predict(x) for x in np.array(test['time'])]\n",
    "\n",
    "# fit EKR on training, predict on testing\n",
    "ekr = EKR(np.array(train['time']), np.array(train['ozone']), lamb)\n",
    "preds_ekr = [ekr.predict(x) for x in np.array(test['time'])]\n",
    "\n",
    "# plotting\n",
    "plt.plot(test['time'], preds_gkr, label='Gaussian Kernel')\n",
    "plt.plot(test['time'], preds_ekr, label='Epanechnikov Kernel')\n",
    "plt.scatter(train['time'], train['ozone'], s=2, label='Train')\n",
    "plt.scatter(test['time'], test['ozone'], s=2, label='Test')\n",
    "plt.title('Comparison of Kernels')\n",
    "plt.legend()\n",
    "plt.xlabel('time')\n",
    "plt.ylabel('ozone')\n",
    "plt.show()"
   ]
  },
  {
   "cell_type": "code",
   "execution_count": 11,
   "id": "c00f4b46",
   "metadata": {},
   "outputs": [
    {
     "data": {
      "text/html": [
       "<div>\n",
       "<style scoped>\n",
       "    .dataframe tbody tr th:only-of-type {\n",
       "        vertical-align: middle;\n",
       "    }\n",
       "\n",
       "    .dataframe tbody tr th {\n",
       "        vertical-align: top;\n",
       "    }\n",
       "\n",
       "    .dataframe thead th {\n",
       "        text-align: right;\n",
       "    }\n",
       "</style>\n",
       "<table border=\"1\" class=\"dataframe\">\n",
       "  <thead>\n",
       "    <tr style=\"text-align: right;\">\n",
       "      <th></th>\n",
       "      <th>Testing MSE</th>\n",
       "    </tr>\n",
       "  </thead>\n",
       "  <tbody>\n",
       "    <tr>\n",
       "      <th>Gaussian Kernel</th>\n",
       "      <td>30.069427</td>\n",
       "    </tr>\n",
       "    <tr>\n",
       "      <th>Epanechnikov Kernel</th>\n",
       "      <td>29.872525</td>\n",
       "    </tr>\n",
       "  </tbody>\n",
       "</table>\n",
       "</div>"
      ],
      "text/plain": [
       "                     Testing MSE\n",
       "Gaussian Kernel        30.069427\n",
       "Epanechnikov Kernel    29.872525"
      ]
     },
     "metadata": {},
     "output_type": "display_data"
    }
   ],
   "source": [
    "# test MSE table\n",
    "dict = {\n",
    "        'Gaussian Kernel' : [mse(test['ozone'], preds_gkr)],\n",
    "        'Epanechnikov Kernel' : [mse(test['ozone'], preds_ekr)]\n",
    "       }\n",
    "\n",
    "df = pd.DataFrame(dict)\n",
    "df = df.rename(index={0: 'Testing MSE'})\n",
    "display(df.T)"
   ]
  },
  {
   "cell_type": "code",
   "execution_count": 12,
   "id": "53fd48d0",
   "metadata": {},
   "outputs": [],
   "source": [
    "perc = np.array([0.5,0.6,0.70,0.8,0.9,1,1.1,1.2,1.3,1.4,1.5])\n",
    "lambdas = perc*lamb\n",
    "\n",
    "# k-fold cross validation\n",
    "kf = KFold(n_splits=10, shuffle=False)\n",
    "validation_results = {}\n",
    "\n",
    "# loop over lambdas:\n",
    "for lamb in lambdas:\n",
    "    # fit and predict\n",
    "    ekr = EKR(np.array(train['time']), np.array(train['ozone']), lamb)\n",
    "    preds_ekr = [ekr.predict(x) for x in np.array(test['time'])]\n",
    "\n",
    "    # calc and store mses\n",
    "    val_mse = mse(preds_ekr, test['ozone'])\n",
    "    validation_results[lamb] = val_mse"
   ]
  },
  {
   "cell_type": "code",
   "execution_count": 13,
   "id": "6d51b879",
   "metadata": {},
   "outputs": [
    {
     "name": "stdout",
     "output_type": "stream",
     "text": [
      "Test MSE for Epanechnikov Kernel with best lambda (0.05066188779286754): 28.40223953464952\n"
     ]
    },
    {
     "data": {
      "image/png": "[encoded data removed]",
      "text/plain": [
       "<Figure size 432x288 with 1 Axes>"
      ]
     },
     "metadata": {
      "needs_background": "light"
     },
     "output_type": "display_data"
    }
   ],
   "source": [
    "best_lambda = lambdas[np.array(list(validation_results.values()))[:-1].argmin()]\n",
    "\n",
    "best_ekr = EKR(np.array(train['time']), np.array(train['ozone']), best_lambda)\n",
    "best_ekr_preds = [best_ekr.predict(x) for x in np.array(test['time'])]\n",
    "best_ekr_test_mse = mse(test['ozone'], best_ekr_preds)\n",
    "print(f'Test MSE for Epanechnikov Kernel with best lambda ({best_lambda}):',best_ekr_test_mse)\n",
    "\n",
    "plt.plot(test['time'], best_ekr_preds, label='Best Epanechnikov Kernel')\n",
    "plt.scatter(train['time'], train['ozone'], s=2, label='Train')\n",
    "plt.scatter(test['time'], test['ozone'], s=2, label='Test')\n",
    "plt.title('Comparison of Kernels')\n",
    "plt.legend()\n",
    "plt.xlabel('time')\n",
    "plt.ylabel('ozone')\n",
    "plt.show()"
   ]
  },
  {
   "cell_type": "markdown",
   "id": "dd8df1b0",
   "metadata": {},
   "source": [
    "## b [25 Points] Two-dimensional Kernel\n",
    "\n",
    "We consider using both `time` and `wind` in the regression. We use the following multivariate kernel function, which is essentially a Gaussian kernel with diagonal covariance matrix. You can also view this as the product of two kernel functions, corresponding to the two variables:\n",
    "\n",
    "$$ K_{\\boldsymbol \\lambda}(x, z) \\propto \\exp\\Big\\{ -\\frac{1}{2} \\sum_{j=1}^p \\big( (x_j - z_j)/\\lambda_j \\big)^2 \\Big\\}$$\n",
    "Based on the Silverman's formula, the bandwidth for the $j$th variable is given by\n",
    "$$\\lambda_k = \\left(\\frac{4}{p+2}\\right)^{\\frac{1}{p+4}} n^{-\\frac{1}{p+4}} \\, \\, \\widehat \\sigma_j,$$\n",
    "where $\\widehat\\sigma_j$ is the estimated standard deviation for variable $j$. Use the Nadaraya-Watson kernel estimator to fit and predict the `ozone` level using `time` and `wind`. At the end, report the testing error."
   ]
  },
  {
   "cell_type": "code",
   "execution_count": 14,
   "id": "30d1c834",
   "metadata": {},
   "outputs": [
    {
     "name": "stdout",
     "output_type": "stream",
     "text": [
      "Testing MSE: 32.38062711103284\n"
     ]
    }
   ],
   "source": [
    "def mgauss(x1,x2,y1,y2,h1,h2):\n",
    "    return np.exp( -0.5*( (x1-y1)/h1 )**2 + -0.5*( (x2-y2)/h2 )**2)\n",
    "\n",
    "def predict(train_x, train_y, test_x, h, kernel):\n",
    "    values = np.zeros(test_x.shape[0])\n",
    "    for i in range(test_x.shape[0]):\n",
    "        k = kernel(train_x[:,0], train_x[:,1], test_x[i,0], test_x[i,1], h[0], h[1])\n",
    "        values[i] = np.sum(k*train_y)/sum(k)\n",
    "    return values\n",
    "    \n",
    "h = np.array([np.std(train['time'])*train.shape[0]**(-1/6), np.std(train['wind'])*train.shape[0]**(-1/6)])\n",
    "\n",
    "x_train = np.array(train[['time', 'wind']])\n",
    "x_test = np.array(test[['time', 'wind']])\n",
    "y_train = np.array(train['ozone'])\n",
    "y_test = np.array(test['ozone'])\n",
    "\n",
    "\n",
    "test_vals = predict(x_train, y_train, x_test, h, mgauss)\n",
    "print('Testing MSE:',mse(test_vals, test['ozone']))"
   ]
  },
  {
   "cell_type": "markdown",
   "id": "2cc669f9",
   "metadata": {},
   "source": [
    "## c [5 Points] Variance of Multi-dimensional Kernel\n",
    "\n",
    "In our lecture, we only introduced the one-dimensional case for density estimations. For a regression problem, the rate is essentially the same. However, when we have multivariate kernels, the rate of bias and variance will change. If we use the same $\\lambda$ from the one-dimensional case in a two-dimensional problem, would you expect the bias to increase/decrease/unchanged? Would you expect the variance to increase/decrease/unchanged? And why? Hint: for the same $\\lambda$, bias is quantified by how far your neighboring points are, and variance is quantified by how many points you are capturing within that neighborhood. \n",
    "\n",
    "We would expect that the bias would increase linearly with the dimensions so the 2-dimensional case will have a slightly higher bias. The variance, however, increases exponentially. Since this a larger rate compared to a linear increase, we expect the variance will increase by a larger amount."
   ]
  }
 ],
 "metadata": {
  "authors": [
   {
    "name": "Harris Nisar (nisar2)"
   }
  ],
  "celltoolbar": "Edit Metadata",
  "kernelspec": {
   "display_name": "Python 3 (ipykernel)",
   "language": "python",
   "name": "python3"
  },
  "language_info": {
   "codemirror_mode": {
    "name": "ipython",
    "version": 3
   },
   "file_extension": ".py",
   "mimetype": "text/x-python",
   "name": "python",
   "nbconvert_exporter": "python",
   "pygments_lexer": "ipython3",
   "version": "3.8.11"
  },
  "title": "Stat 542 HW6"
 },
 "nbformat": 4,
 "nbformat_minor": 5
}
