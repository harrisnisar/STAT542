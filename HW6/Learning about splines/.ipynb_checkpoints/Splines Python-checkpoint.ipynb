{
 "cells": [
  {
   "cell_type": "markdown",
   "id": "63344f38",
   "metadata": {},
   "source": [
    "## From Linear to Nonlinear\n",
    "\n",
    "We use the U.S. birth rate data as an example. The data records birth rates from 1917 to 2003. The birth rate trend is obviously very nonlinear. "
   ]
  },
  {
   "cell_type": "code",
   "execution_count": null,
   "id": "d637b800",
   "metadata": {},
   "outputs": [],
   "source": []
  }
 ],
 "metadata": {
  "kernelspec": {
   "display_name": "Python 3 (ipykernel)",
   "language": "python",
   "name": "python3"
  },
  "language_info": {
   "codemirror_mode": {
    "name": "ipython",
    "version": 3
   },
   "file_extension": ".py",
   "mimetype": "text/x-python",
   "name": "python",
   "nbconvert_exporter": "python",
   "pygments_lexer": "ipython3",
   "version": "3.8.11"
  }
 },
 "nbformat": 4,
 "nbformat_minor": 5
}
